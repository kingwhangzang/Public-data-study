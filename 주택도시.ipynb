{
  "cells": [
    {
      "cell_type": "markdown",
      "metadata": {
        "id": "view-in-github",
        "colab_type": "text"
      },
      "source": [
        "<a href=\"https://colab.research.google.com/github/kingwhangzang/Public-data-study/blob/master/%EC%A3%BC%ED%83%9D%EB%8F%84%EC%8B%9C.ipynb\" target=\"_parent\"><img src=\"https://colab.research.google.com/assets/colab-badge.svg\" alt=\"Open In Colab\"/></a>"
      ]
    },
    {
      "cell_type": "code",
      "source": [
        "from google.colab import drive\n",
        "drive.mount('/content/drive')"
      ],
      "metadata": {
        "colab": {
          "base_uri": "https://localhost:8080/"
        },
        "id": "YZCOfhrjx6Yf",
        "outputId": "01910d46-771b-4015-b073-73c69b53b6d6"
      },
      "execution_count": 1,
      "outputs": [
        {
          "output_type": "stream",
          "name": "stdout",
          "text": [
            "Mounted at /content/drive\n"
          ]
        }
      ]
    },
    {
      "cell_type": "code",
      "source": [
        "cd C:\\Users\\soyun\\Desktop\\github\\Public data study"
      ],
      "metadata": {
        "colab": {
          "base_uri": "https://localhost:8080/"
        },
        "id": "cEuzTvcRyPGe",
        "outputId": "f8dffdda-7800-40e9-e74f-3736c829c3c7"
      },
      "execution_count": 4,
      "outputs": [
        {
          "output_type": "stream",
          "name": "stdout",
          "text": [
            "[Errno 2] No such file or directory: 'C:UserssoyunDesktopgithubPublic data study'\n",
            "/content\n"
          ]
        }
      ]
    },
    {
      "cell_type": "code",
      "source": [],
      "metadata": {
        "id": "M1KbV7MqyPCv"
      },
      "execution_count": null,
      "outputs": []
    },
    {
      "cell_type": "markdown",
      "metadata": {
        "id": "KjUsJlrmJZUh"
      },
      "source": [
        "[![Open In Colab](https://colab.research.google.com/assets/colab-badge.svg)](https://bit.ly/open-data-01-apt-price-input)\n",
        "\n",
        "# 전국 신규 민간 아파트 분양가격 동향\n",
        "\n",
        "2013년부터 최근까지 부동산 가격 변동 추세가 아파트 분양가에도 반영될까요? 공공데이터 포털에 있는 데이터를 Pandas 의 melt, concat, pivot, transpose 와 같은 reshape 기능을 활용해 분석해 봅니다. 그리고 groupby, pivot_table, info, describe, value_counts 등을 통한 데이터 요약과 분석을 해봅니다. 이를 통해 전혀 다른 형태의 두 데이터를 가져와 정제하고 병합하는 과정을 다루는 방법을 알게 됩니다. 전처리 한 결과에 대해 수치형, 범주형 데이터의 차이를 이해하고 다양한 그래프로 시각화를 할 수 있게 됩니다.\n",
        "\n",
        "\n",
        "## 다루는 내용\n",
        "* 공공데이터를 활용해 전혀 다른 두 개의 데이터를 가져와서 전처리 하고 병합하기\n",
        "* 수치형 데이터와 범주형 데이터를 바라보는 시각을 기르기\n",
        "* 데이터의 형식에 따른 다양한 시각화 방법 이해하기\n",
        "\n",
        "## 실습\n",
        "* 공공데이터 다운로드 후 주피터 노트북으로 로드하기\n",
        "* 판다스를 통해 데이터를 요약하고 분석하기\n",
        "* 데이터 전처리와 병합하기\n",
        "* 수치형 데이터와 범주형 데이터 다루기\n",
        "* 막대그래프(bar plot), 선그래프(line plot), 산포도(scatter plot), 상관관계(lm plot), 히트맵, 상자수염그림, swarm plot, 도수분포표, 히스토그램(distplot) 실습하기\n",
        "\n",
        "## 데이터셋\n",
        "* 다운로드 위치 : \n",
        "    * 공공데이터 포털 : https://www.data.go.kr/data/15061057/fileData.do\n",
        "    * 수업과 같은 데이터로 실습하기 위해 아래 링크의 데이터로 실습하는 것을 권장합니다.\n",
        "    * 데이터셋 다운로드(구글드라이브) : http://bit.ly/open-data-set-folder\n",
        "    * 데이터셋 다운로드(드랍박스) : https://bit.ly/dropbox-open-data-set\n",
        "\n",
        "### 전국 평균 분양가격(2013년 9월부터 2015년 8월까지)\n",
        "* 전국 공동주택의 3.3제곱미터당 평균분양가격 데이터를 제공\n",
        "\n",
        "###  주택도시보증공사_전국 평균 분양가격(2019년 12월)\n",
        "* 전국 공동주택의 연도별, 월별, 전용면적별 제곱미터당 평균분양가격 데이터를 제공\n",
        "* 지역별 평균값은 단순 산술평균값이 아닌 가중평균값임"
      ]
    },
    {
      "cell_type": "code",
      "execution_count": null,
      "metadata": {
        "id": "NvENO6j6_WXn",
        "outputId": "5eb3f720-723a-44ec-d1ef-a3434a3a3208",
        "colab": {
          "base_uri": "https://localhost:8080/"
        }
      },
      "outputs": [
        {
          "output_type": "stream",
          "name": "stdout",
          "text": [
            "mv: cannot stat 'C:\\my project\\Public data study\\num1\\전국 평균 분양가격(2013년 9월부터 2015년 8월까지).csv': No such file or directory\n"
          ]
        }
      ],
      "source": [
        "%mv \"C:\\my project\\Public data study\\num1\\전국 평균 분양가격(2013년 9월부터 2015년 8월까지).csv\" sample_data"
      ]
    },
    {
      "cell_type": "code",
      "source": [
        "%mv \"전국 평균 분양가격(2013년 9월부터 2015년 8월까지).csv\" sample_data"
      ],
      "metadata": {
        "id": "5cbaN58X_h1M"
      },
      "execution_count": null,
      "outputs": []
    },
    {
      "cell_type": "code",
      "source": [
        "%ls sample_data"
      ],
      "metadata": {
        "id": "055MEhmz_jca",
        "outputId": "02c154e3-6d5e-4301-efcf-955fba054b21",
        "colab": {
          "base_uri": "https://localhost:8080/"
        }
      },
      "execution_count": null,
      "outputs": [
        {
          "output_type": "stream",
          "name": "stdout",
          "text": [
            "'전국 평균 분양가격(2013년 9월부터 2015년 8월까지).csv'\n",
            "'주택도시보증공사_전국 평균 분양가격(2019년 12월).csv'\n",
            " \u001b[0m\u001b[01;32manscombe.json\u001b[0m*\n",
            " california_housing_test.csv\n",
            " california_housing_train.csv\n",
            " mnist_test.csv\n",
            " mnist_train_small.csv\n",
            " \u001b[01;32mREADME.md\u001b[0m*\n"
          ]
        }
      ]
    },
    {
      "cell_type": "code",
      "execution_count": null,
      "metadata": {
        "id": "zpY51yLhJZUj"
      },
      "outputs": [],
      "source": [
        "# 파이썬에서 쓸 수 있는 엑셀과도 유사한 판다스 라이브러리를 불러옵니다.\n",
        "import pandas as pd"
      ]
    },
    {
      "cell_type": "markdown",
      "metadata": {
        "id": "bWq3K5gGJZUo"
      },
      "source": [
        "## 데이터 로드\n",
        "### 최근 파일 로드\n",
        "공공데이터 포털에서 \"주택도시보증공사_전국 평균 분양가격\"파일을 다운로드 받아 불러옵니다.\n",
        "이 때, 인코딩을 설정을 해주어야 한글이 깨지지 않습니다.\n",
        "보통 엑셀로 저장된 한글의 인코딩은 cp949 혹은 euc-kr로 되어 있습니다.\n",
        "df_last 라는 변수에 최근 분양가 파일을 다운로드 받아 로드합니다.\n",
        "\n",
        "* 한글인코딩 : [‘설믜를 설믜라 못 부르는’ 김설믜씨 “제 이름을 지켜주세요” : 사회일반 : 사회 : 뉴스 : 한겨레](http://www.hani.co.kr/arti/society/society_general/864914.html)\n",
        "\n",
        "데이터를 로드한 뒤 shape를 통해 행과 열의 갯수를 출력합니다."
      ]
    },
    {
      "cell_type": "code",
      "execution_count": null,
      "metadata": {
        "colab": {
          "base_uri": "https://localhost:8080/"
        },
        "id": "QhUa-oftJZUp",
        "outputId": "2c8fc884-78ec-4233-fcf5-c7a88b502e59"
      },
      "outputs": [
        {
          "output_type": "execute_result",
          "data": {
            "text/plain": [
              "(4335, 5)"
            ]
          },
          "metadata": {},
          "execution_count": 31
        }
      ],
      "source": [
        "# 최근 분양가 파일을 로드해서 df_last 라는 변수에 담습니다.\n",
        "# 파일로드시 OSError가 발생한다면, engine=\"python\"을 추가해 보세요.\n",
        "# 윈도우에서 파일탐색기의 경로를 복사해서 붙여넣기 했는데도 파일을 불러올 수 없다면\n",
        "# 아마도 경로에 있는 ₩ 역슬래시 표시를 못 읽어왔을 가능성이 큽니다. \n",
        "# r\"경로명\" 으로 적어주세요.\n",
        "# r\"경로명\"으로 적게 되면 경로를 문자 그대로(raw) 읽으라는 의미입니다.\n",
        "df_last = pd.read_csv(\"sample_data/주택도시보증공사_전국 평균 분양가격(2019년 12월).csv\", encoding=\"cp949\")\n",
        "df_last.shape"
      ]
    },
    {
      "cell_type": "code",
      "execution_count": null,
      "metadata": {
        "colab": {
          "base_uri": "https://localhost:8080/",
          "height": 206
        },
        "id": "luD_xdGcJZUr",
        "scrolled": true,
        "outputId": "9cbb0160-06c8-4dab-a185-e0e5b47f293a"
      },
      "outputs": [
        {
          "output_type": "execute_result",
          "data": {
            "text/plain": [
              "  지역명               규모구분    연도   월 분양가격(㎡)\n",
              "0  서울                 전체  2015  10    5841\n",
              "1  서울         전용면적 60㎡이하  2015  10    5652\n",
              "2  서울   전용면적 60㎡초과 85㎡이하  2015  10    5882\n",
              "3  서울  전용면적 85㎡초과 102㎡이하  2015  10    5721\n",
              "4  서울        전용면적 102㎡초과  2015  10    5879"
            ],
            "text/html": [
              "\n",
              "  <div id=\"df-dfc2586b-5b97-481b-a6f7-493fe02bda50\">\n",
              "    <div class=\"colab-df-container\">\n",
              "      <div>\n",
              "<style scoped>\n",
              "    .dataframe tbody tr th:only-of-type {\n",
              "        vertical-align: middle;\n",
              "    }\n",
              "\n",
              "    .dataframe tbody tr th {\n",
              "        vertical-align: top;\n",
              "    }\n",
              "\n",
              "    .dataframe thead th {\n",
              "        text-align: right;\n",
              "    }\n",
              "</style>\n",
              "<table border=\"1\" class=\"dataframe\">\n",
              "  <thead>\n",
              "    <tr style=\"text-align: right;\">\n",
              "      <th></th>\n",
              "      <th>지역명</th>\n",
              "      <th>규모구분</th>\n",
              "      <th>연도</th>\n",
              "      <th>월</th>\n",
              "      <th>분양가격(㎡)</th>\n",
              "    </tr>\n",
              "  </thead>\n",
              "  <tbody>\n",
              "    <tr>\n",
              "      <th>0</th>\n",
              "      <td>서울</td>\n",
              "      <td>전체</td>\n",
              "      <td>2015</td>\n",
              "      <td>10</td>\n",
              "      <td>5841</td>\n",
              "    </tr>\n",
              "    <tr>\n",
              "      <th>1</th>\n",
              "      <td>서울</td>\n",
              "      <td>전용면적 60㎡이하</td>\n",
              "      <td>2015</td>\n",
              "      <td>10</td>\n",
              "      <td>5652</td>\n",
              "    </tr>\n",
              "    <tr>\n",
              "      <th>2</th>\n",
              "      <td>서울</td>\n",
              "      <td>전용면적 60㎡초과 85㎡이하</td>\n",
              "      <td>2015</td>\n",
              "      <td>10</td>\n",
              "      <td>5882</td>\n",
              "    </tr>\n",
              "    <tr>\n",
              "      <th>3</th>\n",
              "      <td>서울</td>\n",
              "      <td>전용면적 85㎡초과 102㎡이하</td>\n",
              "      <td>2015</td>\n",
              "      <td>10</td>\n",
              "      <td>5721</td>\n",
              "    </tr>\n",
              "    <tr>\n",
              "      <th>4</th>\n",
              "      <td>서울</td>\n",
              "      <td>전용면적 102㎡초과</td>\n",
              "      <td>2015</td>\n",
              "      <td>10</td>\n",
              "      <td>5879</td>\n",
              "    </tr>\n",
              "  </tbody>\n",
              "</table>\n",
              "</div>\n",
              "      <button class=\"colab-df-convert\" onclick=\"convertToInteractive('df-dfc2586b-5b97-481b-a6f7-493fe02bda50')\"\n",
              "              title=\"Convert this dataframe to an interactive table.\"\n",
              "              style=\"display:none;\">\n",
              "        \n",
              "  <svg xmlns=\"http://www.w3.org/2000/svg\" height=\"24px\"viewBox=\"0 0 24 24\"\n",
              "       width=\"24px\">\n",
              "    <path d=\"M0 0h24v24H0V0z\" fill=\"none\"/>\n",
              "    <path d=\"M18.56 5.44l.94 2.06.94-2.06 2.06-.94-2.06-.94-.94-2.06-.94 2.06-2.06.94zm-11 1L8.5 8.5l.94-2.06 2.06-.94-2.06-.94L8.5 2.5l-.94 2.06-2.06.94zm10 10l.94 2.06.94-2.06 2.06-.94-2.06-.94-.94-2.06-.94 2.06-2.06.94z\"/><path d=\"M17.41 7.96l-1.37-1.37c-.4-.4-.92-.59-1.43-.59-.52 0-1.04.2-1.43.59L10.3 9.45l-7.72 7.72c-.78.78-.78 2.05 0 2.83L4 21.41c.39.39.9.59 1.41.59.51 0 1.02-.2 1.41-.59l7.78-7.78 2.81-2.81c.8-.78.8-2.07 0-2.86zM5.41 20L4 18.59l7.72-7.72 1.47 1.35L5.41 20z\"/>\n",
              "  </svg>\n",
              "      </button>\n",
              "      \n",
              "  <style>\n",
              "    .colab-df-container {\n",
              "      display:flex;\n",
              "      flex-wrap:wrap;\n",
              "      gap: 12px;\n",
              "    }\n",
              "\n",
              "    .colab-df-convert {\n",
              "      background-color: #E8F0FE;\n",
              "      border: none;\n",
              "      border-radius: 50%;\n",
              "      cursor: pointer;\n",
              "      display: none;\n",
              "      fill: #1967D2;\n",
              "      height: 32px;\n",
              "      padding: 0 0 0 0;\n",
              "      width: 32px;\n",
              "    }\n",
              "\n",
              "    .colab-df-convert:hover {\n",
              "      background-color: #E2EBFA;\n",
              "      box-shadow: 0px 1px 2px rgba(60, 64, 67, 0.3), 0px 1px 3px 1px rgba(60, 64, 67, 0.15);\n",
              "      fill: #174EA6;\n",
              "    }\n",
              "\n",
              "    [theme=dark] .colab-df-convert {\n",
              "      background-color: #3B4455;\n",
              "      fill: #D2E3FC;\n",
              "    }\n",
              "\n",
              "    [theme=dark] .colab-df-convert:hover {\n",
              "      background-color: #434B5C;\n",
              "      box-shadow: 0px 1px 3px 1px rgba(0, 0, 0, 0.15);\n",
              "      filter: drop-shadow(0px 1px 2px rgba(0, 0, 0, 0.3));\n",
              "      fill: #FFFFFF;\n",
              "    }\n",
              "  </style>\n",
              "\n",
              "      <script>\n",
              "        const buttonEl =\n",
              "          document.querySelector('#df-dfc2586b-5b97-481b-a6f7-493fe02bda50 button.colab-df-convert');\n",
              "        buttonEl.style.display =\n",
              "          google.colab.kernel.accessAllowed ? 'block' : 'none';\n",
              "\n",
              "        async function convertToInteractive(key) {\n",
              "          const element = document.querySelector('#df-dfc2586b-5b97-481b-a6f7-493fe02bda50');\n",
              "          const dataTable =\n",
              "            await google.colab.kernel.invokeFunction('convertToInteractive',\n",
              "                                                     [key], {});\n",
              "          if (!dataTable) return;\n",
              "\n",
              "          const docLinkHtml = 'Like what you see? Visit the ' +\n",
              "            '<a target=\"_blank\" href=https://colab.research.google.com/notebooks/data_table.ipynb>data table notebook</a>'\n",
              "            + ' to learn more about interactive tables.';\n",
              "          element.innerHTML = '';\n",
              "          dataTable['output_type'] = 'display_data';\n",
              "          await google.colab.output.renderOutput(dataTable, element);\n",
              "          const docLink = document.createElement('div');\n",
              "          docLink.innerHTML = docLinkHtml;\n",
              "          element.appendChild(docLink);\n",
              "        }\n",
              "      </script>\n",
              "    </div>\n",
              "  </div>\n",
              "  "
            ]
          },
          "metadata": {},
          "execution_count": 32
        }
      ],
      "source": [
        "# head 로 파일을 미리보기 합니다.\n",
        "# 메소드 뒤에 ?를 하면 자기호출 이라는 기능을 통해 메소드의 docstring을 출력합니다.\n",
        "# 메소드의 ()괄호 안에서 Shift + Tab키를 눌러도 같은 문서를 열어볼 수 있습니다.\n",
        "# Shift + Tab + Tab 을 하게 되면 팝업창을 키울 수 있습니다.\n",
        "df_last.head()"
      ]
    },
    {
      "cell_type": "code",
      "execution_count": null,
      "metadata": {
        "colab": {
          "base_uri": "https://localhost:8080/",
          "height": 206
        },
        "id": "odvB6ab7JZUu",
        "outputId": "569a86dd-2704-4fdd-cad0-e247b7314648"
      },
      "outputs": [
        {
          "output_type": "execute_result",
          "data": {
            "text/plain": [
              "     지역명               규모구분    연도   월 분양가격(㎡)\n",
              "4330  제주                 전체  2019  12    3882\n",
              "4331  제주         전용면적 60㎡이하  2019  12     NaN\n",
              "4332  제주   전용면적 60㎡초과 85㎡이하  2019  12    3898\n",
              "4333  제주  전용면적 85㎡초과 102㎡이하  2019  12     NaN\n",
              "4334  제주        전용면적 102㎡초과  2019  12    3601"
            ],
            "text/html": [
              "\n",
              "  <div id=\"df-2c56bd04-450b-449e-b053-448c1ef59d8a\">\n",
              "    <div class=\"colab-df-container\">\n",
              "      <div>\n",
              "<style scoped>\n",
              "    .dataframe tbody tr th:only-of-type {\n",
              "        vertical-align: middle;\n",
              "    }\n",
              "\n",
              "    .dataframe tbody tr th {\n",
              "        vertical-align: top;\n",
              "    }\n",
              "\n",
              "    .dataframe thead th {\n",
              "        text-align: right;\n",
              "    }\n",
              "</style>\n",
              "<table border=\"1\" class=\"dataframe\">\n",
              "  <thead>\n",
              "    <tr style=\"text-align: right;\">\n",
              "      <th></th>\n",
              "      <th>지역명</th>\n",
              "      <th>규모구분</th>\n",
              "      <th>연도</th>\n",
              "      <th>월</th>\n",
              "      <th>분양가격(㎡)</th>\n",
              "    </tr>\n",
              "  </thead>\n",
              "  <tbody>\n",
              "    <tr>\n",
              "      <th>4330</th>\n",
              "      <td>제주</td>\n",
              "      <td>전체</td>\n",
              "      <td>2019</td>\n",
              "      <td>12</td>\n",
              "      <td>3882</td>\n",
              "    </tr>\n",
              "    <tr>\n",
              "      <th>4331</th>\n",
              "      <td>제주</td>\n",
              "      <td>전용면적 60㎡이하</td>\n",
              "      <td>2019</td>\n",
              "      <td>12</td>\n",
              "      <td>NaN</td>\n",
              "    </tr>\n",
              "    <tr>\n",
              "      <th>4332</th>\n",
              "      <td>제주</td>\n",
              "      <td>전용면적 60㎡초과 85㎡이하</td>\n",
              "      <td>2019</td>\n",
              "      <td>12</td>\n",
              "      <td>3898</td>\n",
              "    </tr>\n",
              "    <tr>\n",
              "      <th>4333</th>\n",
              "      <td>제주</td>\n",
              "      <td>전용면적 85㎡초과 102㎡이하</td>\n",
              "      <td>2019</td>\n",
              "      <td>12</td>\n",
              "      <td>NaN</td>\n",
              "    </tr>\n",
              "    <tr>\n",
              "      <th>4334</th>\n",
              "      <td>제주</td>\n",
              "      <td>전용면적 102㎡초과</td>\n",
              "      <td>2019</td>\n",
              "      <td>12</td>\n",
              "      <td>3601</td>\n",
              "    </tr>\n",
              "  </tbody>\n",
              "</table>\n",
              "</div>\n",
              "      <button class=\"colab-df-convert\" onclick=\"convertToInteractive('df-2c56bd04-450b-449e-b053-448c1ef59d8a')\"\n",
              "              title=\"Convert this dataframe to an interactive table.\"\n",
              "              style=\"display:none;\">\n",
              "        \n",
              "  <svg xmlns=\"http://www.w3.org/2000/svg\" height=\"24px\"viewBox=\"0 0 24 24\"\n",
              "       width=\"24px\">\n",
              "    <path d=\"M0 0h24v24H0V0z\" fill=\"none\"/>\n",
              "    <path d=\"M18.56 5.44l.94 2.06.94-2.06 2.06-.94-2.06-.94-.94-2.06-.94 2.06-2.06.94zm-11 1L8.5 8.5l.94-2.06 2.06-.94-2.06-.94L8.5 2.5l-.94 2.06-2.06.94zm10 10l.94 2.06.94-2.06 2.06-.94-2.06-.94-.94-2.06-.94 2.06-2.06.94z\"/><path d=\"M17.41 7.96l-1.37-1.37c-.4-.4-.92-.59-1.43-.59-.52 0-1.04.2-1.43.59L10.3 9.45l-7.72 7.72c-.78.78-.78 2.05 0 2.83L4 21.41c.39.39.9.59 1.41.59.51 0 1.02-.2 1.41-.59l7.78-7.78 2.81-2.81c.8-.78.8-2.07 0-2.86zM5.41 20L4 18.59l7.72-7.72 1.47 1.35L5.41 20z\"/>\n",
              "  </svg>\n",
              "      </button>\n",
              "      \n",
              "  <style>\n",
              "    .colab-df-container {\n",
              "      display:flex;\n",
              "      flex-wrap:wrap;\n",
              "      gap: 12px;\n",
              "    }\n",
              "\n",
              "    .colab-df-convert {\n",
              "      background-color: #E8F0FE;\n",
              "      border: none;\n",
              "      border-radius: 50%;\n",
              "      cursor: pointer;\n",
              "      display: none;\n",
              "      fill: #1967D2;\n",
              "      height: 32px;\n",
              "      padding: 0 0 0 0;\n",
              "      width: 32px;\n",
              "    }\n",
              "\n",
              "    .colab-df-convert:hover {\n",
              "      background-color: #E2EBFA;\n",
              "      box-shadow: 0px 1px 2px rgba(60, 64, 67, 0.3), 0px 1px 3px 1px rgba(60, 64, 67, 0.15);\n",
              "      fill: #174EA6;\n",
              "    }\n",
              "\n",
              "    [theme=dark] .colab-df-convert {\n",
              "      background-color: #3B4455;\n",
              "      fill: #D2E3FC;\n",
              "    }\n",
              "\n",
              "    [theme=dark] .colab-df-convert:hover {\n",
              "      background-color: #434B5C;\n",
              "      box-shadow: 0px 1px 3px 1px rgba(0, 0, 0, 0.15);\n",
              "      filter: drop-shadow(0px 1px 2px rgba(0, 0, 0, 0.3));\n",
              "      fill: #FFFFFF;\n",
              "    }\n",
              "  </style>\n",
              "\n",
              "      <script>\n",
              "        const buttonEl =\n",
              "          document.querySelector('#df-2c56bd04-450b-449e-b053-448c1ef59d8a button.colab-df-convert');\n",
              "        buttonEl.style.display =\n",
              "          google.colab.kernel.accessAllowed ? 'block' : 'none';\n",
              "\n",
              "        async function convertToInteractive(key) {\n",
              "          const element = document.querySelector('#df-2c56bd04-450b-449e-b053-448c1ef59d8a');\n",
              "          const dataTable =\n",
              "            await google.colab.kernel.invokeFunction('convertToInteractive',\n",
              "                                                     [key], {});\n",
              "          if (!dataTable) return;\n",
              "\n",
              "          const docLinkHtml = 'Like what you see? Visit the ' +\n",
              "            '<a target=\"_blank\" href=https://colab.research.google.com/notebooks/data_table.ipynb>data table notebook</a>'\n",
              "            + ' to learn more about interactive tables.';\n",
              "          element.innerHTML = '';\n",
              "          dataTable['output_type'] = 'display_data';\n",
              "          await google.colab.output.renderOutput(dataTable, element);\n",
              "          const docLink = document.createElement('div');\n",
              "          docLink.innerHTML = docLinkHtml;\n",
              "          element.appendChild(docLink);\n",
              "        }\n",
              "      </script>\n",
              "    </div>\n",
              "  </div>\n",
              "  "
            ]
          },
          "metadata": {},
          "execution_count": 33
        }
      ],
      "source": [
        "# tail 로도 미리보기를 합니다.\n",
        "df_last.tail()"
      ]
    },
    {
      "cell_type": "markdown",
      "metadata": {
        "id": "ruVmuOlXJZUw"
      },
      "source": [
        "### 2015년 부터 최근까지의 데이터 로드\n",
        "전국 평균 분양가격(2013년 9월부터 2015년 8월까지) 파일을 불러옵니다.\n",
        "df_first 라는 변수에 담고 shape로 행과 열의 갯수를 출력합니다."
      ]
    },
    {
      "cell_type": "code",
      "execution_count": null,
      "metadata": {
        "id": "1i8IJcvW_WXs",
        "outputId": "e72f258b-e3a4-4534-a150-7589e6546430",
        "colab": {
          "base_uri": "https://localhost:8080/"
        }
      },
      "outputs": [
        {
          "output_type": "execute_result",
          "data": {
            "text/plain": [
              "(17, 22)"
            ]
          },
          "metadata": {},
          "execution_count": 36
        }
      ],
      "source": [
        "# 해당되는 폴더 혹은 경로의 파일 목록을 출력해 줍니다.\n",
        "df_first = pd.read_csv(\"sample_data/전국 평균 분양가격(2013년 9월부터 2015년 8월까지).csv\", encoding=\"cp949\")\n",
        "df_first.shape"
      ]
    },
    {
      "cell_type": "code",
      "execution_count": null,
      "metadata": {
        "colab": {
          "base_uri": "https://localhost:8080/"
        },
        "id": "vI9ANsK7JZUx",
        "scrolled": true,
        "outputId": "016e0314-a70d-44f4-aee5-9a30fd6e6c78"
      },
      "outputs": [
        {
          "output_type": "execute_result",
          "data": {
            "text/plain": [
              "(17, 22)"
            ]
          },
          "metadata": {},
          "execution_count": 37
        }
      ],
      "source": [
        "# df_first 에 담고 shape로 행과 열의 수를 출력해 봅니다.\n",
        "df_first.shape\n"
      ]
    },
    {
      "cell_type": "code",
      "execution_count": null,
      "metadata": {
        "colab": {
          "base_uri": "https://localhost:8080/",
          "height": 421
        },
        "id": "NrnsHAX9JZUz",
        "outputId": "b641f239-7ac8-477f-cd01-95b5dd7a3f9c"
      },
      "outputs": [
        {
          "output_type": "execute_result",
          "data": {
            "text/plain": [
              "   지역  2013년12월  2014년1월  2014년2월  2014년3월  2014년4월  2014년5월  2014년6월  \\\n",
              "0  서울     18189    17925    17925    18016    18098    19446    18867   \n",
              "1  부산      8111     8111     9078     8965     9402     9501     9453   \n",
              "2  대구      8080     8080     8077     8101     8267     8274     8360   \n",
              "3  인천     10204    10204    10408    10408    10000     9844    10058   \n",
              "4  광주      6098     7326     7611     7346     7346     7523     7659   \n",
              "\n",
              "   2014년7월  2014년8월  ...  2014년11월  2014년12월  2015년1월  2015년2월  2015년3월  \\\n",
              "0    18742    19274  ...     20242     20269    20670    20670    19415   \n",
              "1     9457     9411  ...      9208      9208     9204     9235     9279   \n",
              "2     8360     8370  ...      8439      8253     8327     8416     8441   \n",
              "3     9974     9973  ...     10020     10020    10017     9876     9876   \n",
              "4     7612     7622  ...      7752      7748     7752     7756     7861   \n",
              "\n",
              "   2015년4월  2015년5월  2015년6월  2015년7월  2015년8월  \n",
              "0    18842    18367    18374    18152    18443  \n",
              "1     9327     9345     9515     9559     9581  \n",
              "2     8446     8568     8542     8542     8795  \n",
              "3     9938    10551    10443    10443    10449  \n",
              "4     7914     7877     7881     8089     8231  \n",
              "\n",
              "[5 rows x 22 columns]"
            ],
            "text/html": [
              "\n",
              "  <div id=\"df-8ac60ddc-8349-4d6d-853c-f4dd2956d08e\">\n",
              "    <div class=\"colab-df-container\">\n",
              "      <div>\n",
              "<style scoped>\n",
              "    .dataframe tbody tr th:only-of-type {\n",
              "        vertical-align: middle;\n",
              "    }\n",
              "\n",
              "    .dataframe tbody tr th {\n",
              "        vertical-align: top;\n",
              "    }\n",
              "\n",
              "    .dataframe thead th {\n",
              "        text-align: right;\n",
              "    }\n",
              "</style>\n",
              "<table border=\"1\" class=\"dataframe\">\n",
              "  <thead>\n",
              "    <tr style=\"text-align: right;\">\n",
              "      <th></th>\n",
              "      <th>지역</th>\n",
              "      <th>2013년12월</th>\n",
              "      <th>2014년1월</th>\n",
              "      <th>2014년2월</th>\n",
              "      <th>2014년3월</th>\n",
              "      <th>2014년4월</th>\n",
              "      <th>2014년5월</th>\n",
              "      <th>2014년6월</th>\n",
              "      <th>2014년7월</th>\n",
              "      <th>2014년8월</th>\n",
              "      <th>...</th>\n",
              "      <th>2014년11월</th>\n",
              "      <th>2014년12월</th>\n",
              "      <th>2015년1월</th>\n",
              "      <th>2015년2월</th>\n",
              "      <th>2015년3월</th>\n",
              "      <th>2015년4월</th>\n",
              "      <th>2015년5월</th>\n",
              "      <th>2015년6월</th>\n",
              "      <th>2015년7월</th>\n",
              "      <th>2015년8월</th>\n",
              "    </tr>\n",
              "  </thead>\n",
              "  <tbody>\n",
              "    <tr>\n",
              "      <th>0</th>\n",
              "      <td>서울</td>\n",
              "      <td>18189</td>\n",
              "      <td>17925</td>\n",
              "      <td>17925</td>\n",
              "      <td>18016</td>\n",
              "      <td>18098</td>\n",
              "      <td>19446</td>\n",
              "      <td>18867</td>\n",
              "      <td>18742</td>\n",
              "      <td>19274</td>\n",
              "      <td>...</td>\n",
              "      <td>20242</td>\n",
              "      <td>20269</td>\n",
              "      <td>20670</td>\n",
              "      <td>20670</td>\n",
              "      <td>19415</td>\n",
              "      <td>18842</td>\n",
              "      <td>18367</td>\n",
              "      <td>18374</td>\n",
              "      <td>18152</td>\n",
              "      <td>18443</td>\n",
              "    </tr>\n",
              "    <tr>\n",
              "      <th>1</th>\n",
              "      <td>부산</td>\n",
              "      <td>8111</td>\n",
              "      <td>8111</td>\n",
              "      <td>9078</td>\n",
              "      <td>8965</td>\n",
              "      <td>9402</td>\n",
              "      <td>9501</td>\n",
              "      <td>9453</td>\n",
              "      <td>9457</td>\n",
              "      <td>9411</td>\n",
              "      <td>...</td>\n",
              "      <td>9208</td>\n",
              "      <td>9208</td>\n",
              "      <td>9204</td>\n",
              "      <td>9235</td>\n",
              "      <td>9279</td>\n",
              "      <td>9327</td>\n",
              "      <td>9345</td>\n",
              "      <td>9515</td>\n",
              "      <td>9559</td>\n",
              "      <td>9581</td>\n",
              "    </tr>\n",
              "    <tr>\n",
              "      <th>2</th>\n",
              "      <td>대구</td>\n",
              "      <td>8080</td>\n",
              "      <td>8080</td>\n",
              "      <td>8077</td>\n",
              "      <td>8101</td>\n",
              "      <td>8267</td>\n",
              "      <td>8274</td>\n",
              "      <td>8360</td>\n",
              "      <td>8360</td>\n",
              "      <td>8370</td>\n",
              "      <td>...</td>\n",
              "      <td>8439</td>\n",
              "      <td>8253</td>\n",
              "      <td>8327</td>\n",
              "      <td>8416</td>\n",
              "      <td>8441</td>\n",
              "      <td>8446</td>\n",
              "      <td>8568</td>\n",
              "      <td>8542</td>\n",
              "      <td>8542</td>\n",
              "      <td>8795</td>\n",
              "    </tr>\n",
              "    <tr>\n",
              "      <th>3</th>\n",
              "      <td>인천</td>\n",
              "      <td>10204</td>\n",
              "      <td>10204</td>\n",
              "      <td>10408</td>\n",
              "      <td>10408</td>\n",
              "      <td>10000</td>\n",
              "      <td>9844</td>\n",
              "      <td>10058</td>\n",
              "      <td>9974</td>\n",
              "      <td>9973</td>\n",
              "      <td>...</td>\n",
              "      <td>10020</td>\n",
              "      <td>10020</td>\n",
              "      <td>10017</td>\n",
              "      <td>9876</td>\n",
              "      <td>9876</td>\n",
              "      <td>9938</td>\n",
              "      <td>10551</td>\n",
              "      <td>10443</td>\n",
              "      <td>10443</td>\n",
              "      <td>10449</td>\n",
              "    </tr>\n",
              "    <tr>\n",
              "      <th>4</th>\n",
              "      <td>광주</td>\n",
              "      <td>6098</td>\n",
              "      <td>7326</td>\n",
              "      <td>7611</td>\n",
              "      <td>7346</td>\n",
              "      <td>7346</td>\n",
              "      <td>7523</td>\n",
              "      <td>7659</td>\n",
              "      <td>7612</td>\n",
              "      <td>7622</td>\n",
              "      <td>...</td>\n",
              "      <td>7752</td>\n",
              "      <td>7748</td>\n",
              "      <td>7752</td>\n",
              "      <td>7756</td>\n",
              "      <td>7861</td>\n",
              "      <td>7914</td>\n",
              "      <td>7877</td>\n",
              "      <td>7881</td>\n",
              "      <td>8089</td>\n",
              "      <td>8231</td>\n",
              "    </tr>\n",
              "  </tbody>\n",
              "</table>\n",
              "<p>5 rows × 22 columns</p>\n",
              "</div>\n",
              "      <button class=\"colab-df-convert\" onclick=\"convertToInteractive('df-8ac60ddc-8349-4d6d-853c-f4dd2956d08e')\"\n",
              "              title=\"Convert this dataframe to an interactive table.\"\n",
              "              style=\"display:none;\">\n",
              "        \n",
              "  <svg xmlns=\"http://www.w3.org/2000/svg\" height=\"24px\"viewBox=\"0 0 24 24\"\n",
              "       width=\"24px\">\n",
              "    <path d=\"M0 0h24v24H0V0z\" fill=\"none\"/>\n",
              "    <path d=\"M18.56 5.44l.94 2.06.94-2.06 2.06-.94-2.06-.94-.94-2.06-.94 2.06-2.06.94zm-11 1L8.5 8.5l.94-2.06 2.06-.94-2.06-.94L8.5 2.5l-.94 2.06-2.06.94zm10 10l.94 2.06.94-2.06 2.06-.94-2.06-.94-.94-2.06-.94 2.06-2.06.94z\"/><path d=\"M17.41 7.96l-1.37-1.37c-.4-.4-.92-.59-1.43-.59-.52 0-1.04.2-1.43.59L10.3 9.45l-7.72 7.72c-.78.78-.78 2.05 0 2.83L4 21.41c.39.39.9.59 1.41.59.51 0 1.02-.2 1.41-.59l7.78-7.78 2.81-2.81c.8-.78.8-2.07 0-2.86zM5.41 20L4 18.59l7.72-7.72 1.47 1.35L5.41 20z\"/>\n",
              "  </svg>\n",
              "      </button>\n",
              "      \n",
              "  <style>\n",
              "    .colab-df-container {\n",
              "      display:flex;\n",
              "      flex-wrap:wrap;\n",
              "      gap: 12px;\n",
              "    }\n",
              "\n",
              "    .colab-df-convert {\n",
              "      background-color: #E8F0FE;\n",
              "      border: none;\n",
              "      border-radius: 50%;\n",
              "      cursor: pointer;\n",
              "      display: none;\n",
              "      fill: #1967D2;\n",
              "      height: 32px;\n",
              "      padding: 0 0 0 0;\n",
              "      width: 32px;\n",
              "    }\n",
              "\n",
              "    .colab-df-convert:hover {\n",
              "      background-color: #E2EBFA;\n",
              "      box-shadow: 0px 1px 2px rgba(60, 64, 67, 0.3), 0px 1px 3px 1px rgba(60, 64, 67, 0.15);\n",
              "      fill: #174EA6;\n",
              "    }\n",
              "\n",
              "    [theme=dark] .colab-df-convert {\n",
              "      background-color: #3B4455;\n",
              "      fill: #D2E3FC;\n",
              "    }\n",
              "\n",
              "    [theme=dark] .colab-df-convert:hover {\n",
              "      background-color: #434B5C;\n",
              "      box-shadow: 0px 1px 3px 1px rgba(0, 0, 0, 0.15);\n",
              "      filter: drop-shadow(0px 1px 2px rgba(0, 0, 0, 0.3));\n",
              "      fill: #FFFFFF;\n",
              "    }\n",
              "  </style>\n",
              "\n",
              "      <script>\n",
              "        const buttonEl =\n",
              "          document.querySelector('#df-8ac60ddc-8349-4d6d-853c-f4dd2956d08e button.colab-df-convert');\n",
              "        buttonEl.style.display =\n",
              "          google.colab.kernel.accessAllowed ? 'block' : 'none';\n",
              "\n",
              "        async function convertToInteractive(key) {\n",
              "          const element = document.querySelector('#df-8ac60ddc-8349-4d6d-853c-f4dd2956d08e');\n",
              "          const dataTable =\n",
              "            await google.colab.kernel.invokeFunction('convertToInteractive',\n",
              "                                                     [key], {});\n",
              "          if (!dataTable) return;\n",
              "\n",
              "          const docLinkHtml = 'Like what you see? Visit the ' +\n",
              "            '<a target=\"_blank\" href=https://colab.research.google.com/notebooks/data_table.ipynb>data table notebook</a>'\n",
              "            + ' to learn more about interactive tables.';\n",
              "          element.innerHTML = '';\n",
              "          dataTable['output_type'] = 'display_data';\n",
              "          await google.colab.output.renderOutput(dataTable, element);\n",
              "          const docLink = document.createElement('div');\n",
              "          docLink.innerHTML = docLinkHtml;\n",
              "          element.appendChild(docLink);\n",
              "        }\n",
              "      </script>\n",
              "    </div>\n",
              "  </div>\n",
              "  "
            ]
          },
          "metadata": {},
          "execution_count": 38
        }
      ],
      "source": [
        "# df_first 변수에 담긴 데이터프레임을 head로 미리보기 합니다.\n",
        "df_first.head()"
      ]
    },
    {
      "cell_type": "code",
      "execution_count": null,
      "metadata": {
        "colab": {
          "base_uri": "https://localhost:8080/",
          "height": 421
        },
        "id": "7uLubVT-JZU1",
        "outputId": "1cc8822c-71c4-46d1-94d2-6b63cce6e3cd"
      },
      "outputs": [
        {
          "output_type": "execute_result",
          "data": {
            "text/plain": [
              "    지역  2013년12월  2014년1월  2014년2월  2014년3월  2014년4월  2014년5월  2014년6월  \\\n",
              "12  전북      6282     6281     5946     5966     6277     6306     6351   \n",
              "13  전남      5678     5678     5678     5696     5736     5656     5609   \n",
              "14  경북      6168     6168     6234     6317     6412     6409     6554   \n",
              "15  경남      6473     6485     6502     6610     6599     6610     6615   \n",
              "16  제주      7674     7900     7900     7900     7900     7900     7914   \n",
              "\n",
              "    2014년7월  2014년8월  ...  2014년11월  2014년12월  2015년1월  2015년2월  2015년3월  \\\n",
              "12     6319     6436  ...      6583      6583     6583     6583     6542   \n",
              "13     5780     5685  ...      5768      5784     5784     5833     5825   \n",
              "14     6556     6563  ...      6881      6989     6992     6953     6997   \n",
              "15     6613     6606  ...      7125      7332     7592     7588     7668   \n",
              "16     7914     7914  ...      7724      7739     7739     7739     7826   \n",
              "\n",
              "    2015년4월  2015년5월  2015년6월  2015년7월  2015년8월  \n",
              "12     6551     6556     6601     6750     6580  \n",
              "13     5940     6050     6243     6286     6289  \n",
              "14     7006     6966     6887     7035     7037  \n",
              "15     7683     7717     7715     7723     7665  \n",
              "16     7285     7285     7343     7343     7343  \n",
              "\n",
              "[5 rows x 22 columns]"
            ],
            "text/html": [
              "\n",
              "  <div id=\"df-d5f1c8df-bf32-4cd3-9b0a-fb7f7f3e25fe\">\n",
              "    <div class=\"colab-df-container\">\n",
              "      <div>\n",
              "<style scoped>\n",
              "    .dataframe tbody tr th:only-of-type {\n",
              "        vertical-align: middle;\n",
              "    }\n",
              "\n",
              "    .dataframe tbody tr th {\n",
              "        vertical-align: top;\n",
              "    }\n",
              "\n",
              "    .dataframe thead th {\n",
              "        text-align: right;\n",
              "    }\n",
              "</style>\n",
              "<table border=\"1\" class=\"dataframe\">\n",
              "  <thead>\n",
              "    <tr style=\"text-align: right;\">\n",
              "      <th></th>\n",
              "      <th>지역</th>\n",
              "      <th>2013년12월</th>\n",
              "      <th>2014년1월</th>\n",
              "      <th>2014년2월</th>\n",
              "      <th>2014년3월</th>\n",
              "      <th>2014년4월</th>\n",
              "      <th>2014년5월</th>\n",
              "      <th>2014년6월</th>\n",
              "      <th>2014년7월</th>\n",
              "      <th>2014년8월</th>\n",
              "      <th>...</th>\n",
              "      <th>2014년11월</th>\n",
              "      <th>2014년12월</th>\n",
              "      <th>2015년1월</th>\n",
              "      <th>2015년2월</th>\n",
              "      <th>2015년3월</th>\n",
              "      <th>2015년4월</th>\n",
              "      <th>2015년5월</th>\n",
              "      <th>2015년6월</th>\n",
              "      <th>2015년7월</th>\n",
              "      <th>2015년8월</th>\n",
              "    </tr>\n",
              "  </thead>\n",
              "  <tbody>\n",
              "    <tr>\n",
              "      <th>12</th>\n",
              "      <td>전북</td>\n",
              "      <td>6282</td>\n",
              "      <td>6281</td>\n",
              "      <td>5946</td>\n",
              "      <td>5966</td>\n",
              "      <td>6277</td>\n",
              "      <td>6306</td>\n",
              "      <td>6351</td>\n",
              "      <td>6319</td>\n",
              "      <td>6436</td>\n",
              "      <td>...</td>\n",
              "      <td>6583</td>\n",
              "      <td>6583</td>\n",
              "      <td>6583</td>\n",
              "      <td>6583</td>\n",
              "      <td>6542</td>\n",
              "      <td>6551</td>\n",
              "      <td>6556</td>\n",
              "      <td>6601</td>\n",
              "      <td>6750</td>\n",
              "      <td>6580</td>\n",
              "    </tr>\n",
              "    <tr>\n",
              "      <th>13</th>\n",
              "      <td>전남</td>\n",
              "      <td>5678</td>\n",
              "      <td>5678</td>\n",
              "      <td>5678</td>\n",
              "      <td>5696</td>\n",
              "      <td>5736</td>\n",
              "      <td>5656</td>\n",
              "      <td>5609</td>\n",
              "      <td>5780</td>\n",
              "      <td>5685</td>\n",
              "      <td>...</td>\n",
              "      <td>5768</td>\n",
              "      <td>5784</td>\n",
              "      <td>5784</td>\n",
              "      <td>5833</td>\n",
              "      <td>5825</td>\n",
              "      <td>5940</td>\n",
              "      <td>6050</td>\n",
              "      <td>6243</td>\n",
              "      <td>6286</td>\n",
              "      <td>6289</td>\n",
              "    </tr>\n",
              "    <tr>\n",
              "      <th>14</th>\n",
              "      <td>경북</td>\n",
              "      <td>6168</td>\n",
              "      <td>6168</td>\n",
              "      <td>6234</td>\n",
              "      <td>6317</td>\n",
              "      <td>6412</td>\n",
              "      <td>6409</td>\n",
              "      <td>6554</td>\n",
              "      <td>6556</td>\n",
              "      <td>6563</td>\n",
              "      <td>...</td>\n",
              "      <td>6881</td>\n",
              "      <td>6989</td>\n",
              "      <td>6992</td>\n",
              "      <td>6953</td>\n",
              "      <td>6997</td>\n",
              "      <td>7006</td>\n",
              "      <td>6966</td>\n",
              "      <td>6887</td>\n",
              "      <td>7035</td>\n",
              "      <td>7037</td>\n",
              "    </tr>\n",
              "    <tr>\n",
              "      <th>15</th>\n",
              "      <td>경남</td>\n",
              "      <td>6473</td>\n",
              "      <td>6485</td>\n",
              "      <td>6502</td>\n",
              "      <td>6610</td>\n",
              "      <td>6599</td>\n",
              "      <td>6610</td>\n",
              "      <td>6615</td>\n",
              "      <td>6613</td>\n",
              "      <td>6606</td>\n",
              "      <td>...</td>\n",
              "      <td>7125</td>\n",
              "      <td>7332</td>\n",
              "      <td>7592</td>\n",
              "      <td>7588</td>\n",
              "      <td>7668</td>\n",
              "      <td>7683</td>\n",
              "      <td>7717</td>\n",
              "      <td>7715</td>\n",
              "      <td>7723</td>\n",
              "      <td>7665</td>\n",
              "    </tr>\n",
              "    <tr>\n",
              "      <th>16</th>\n",
              "      <td>제주</td>\n",
              "      <td>7674</td>\n",
              "      <td>7900</td>\n",
              "      <td>7900</td>\n",
              "      <td>7900</td>\n",
              "      <td>7900</td>\n",
              "      <td>7900</td>\n",
              "      <td>7914</td>\n",
              "      <td>7914</td>\n",
              "      <td>7914</td>\n",
              "      <td>...</td>\n",
              "      <td>7724</td>\n",
              "      <td>7739</td>\n",
              "      <td>7739</td>\n",
              "      <td>7739</td>\n",
              "      <td>7826</td>\n",
              "      <td>7285</td>\n",
              "      <td>7285</td>\n",
              "      <td>7343</td>\n",
              "      <td>7343</td>\n",
              "      <td>7343</td>\n",
              "    </tr>\n",
              "  </tbody>\n",
              "</table>\n",
              "<p>5 rows × 22 columns</p>\n",
              "</div>\n",
              "      <button class=\"colab-df-convert\" onclick=\"convertToInteractive('df-d5f1c8df-bf32-4cd3-9b0a-fb7f7f3e25fe')\"\n",
              "              title=\"Convert this dataframe to an interactive table.\"\n",
              "              style=\"display:none;\">\n",
              "        \n",
              "  <svg xmlns=\"http://www.w3.org/2000/svg\" height=\"24px\"viewBox=\"0 0 24 24\"\n",
              "       width=\"24px\">\n",
              "    <path d=\"M0 0h24v24H0V0z\" fill=\"none\"/>\n",
              "    <path d=\"M18.56 5.44l.94 2.06.94-2.06 2.06-.94-2.06-.94-.94-2.06-.94 2.06-2.06.94zm-11 1L8.5 8.5l.94-2.06 2.06-.94-2.06-.94L8.5 2.5l-.94 2.06-2.06.94zm10 10l.94 2.06.94-2.06 2.06-.94-2.06-.94-.94-2.06-.94 2.06-2.06.94z\"/><path d=\"M17.41 7.96l-1.37-1.37c-.4-.4-.92-.59-1.43-.59-.52 0-1.04.2-1.43.59L10.3 9.45l-7.72 7.72c-.78.78-.78 2.05 0 2.83L4 21.41c.39.39.9.59 1.41.59.51 0 1.02-.2 1.41-.59l7.78-7.78 2.81-2.81c.8-.78.8-2.07 0-2.86zM5.41 20L4 18.59l7.72-7.72 1.47 1.35L5.41 20z\"/>\n",
              "  </svg>\n",
              "      </button>\n",
              "      \n",
              "  <style>\n",
              "    .colab-df-container {\n",
              "      display:flex;\n",
              "      flex-wrap:wrap;\n",
              "      gap: 12px;\n",
              "    }\n",
              "\n",
              "    .colab-df-convert {\n",
              "      background-color: #E8F0FE;\n",
              "      border: none;\n",
              "      border-radius: 50%;\n",
              "      cursor: pointer;\n",
              "      display: none;\n",
              "      fill: #1967D2;\n",
              "      height: 32px;\n",
              "      padding: 0 0 0 0;\n",
              "      width: 32px;\n",
              "    }\n",
              "\n",
              "    .colab-df-convert:hover {\n",
              "      background-color: #E2EBFA;\n",
              "      box-shadow: 0px 1px 2px rgba(60, 64, 67, 0.3), 0px 1px 3px 1px rgba(60, 64, 67, 0.15);\n",
              "      fill: #174EA6;\n",
              "    }\n",
              "\n",
              "    [theme=dark] .colab-df-convert {\n",
              "      background-color: #3B4455;\n",
              "      fill: #D2E3FC;\n",
              "    }\n",
              "\n",
              "    [theme=dark] .colab-df-convert:hover {\n",
              "      background-color: #434B5C;\n",
              "      box-shadow: 0px 1px 3px 1px rgba(0, 0, 0, 0.15);\n",
              "      filter: drop-shadow(0px 1px 2px rgba(0, 0, 0, 0.3));\n",
              "      fill: #FFFFFF;\n",
              "    }\n",
              "  </style>\n",
              "\n",
              "      <script>\n",
              "        const buttonEl =\n",
              "          document.querySelector('#df-d5f1c8df-bf32-4cd3-9b0a-fb7f7f3e25fe button.colab-df-convert');\n",
              "        buttonEl.style.display =\n",
              "          google.colab.kernel.accessAllowed ? 'block' : 'none';\n",
              "\n",
              "        async function convertToInteractive(key) {\n",
              "          const element = document.querySelector('#df-d5f1c8df-bf32-4cd3-9b0a-fb7f7f3e25fe');\n",
              "          const dataTable =\n",
              "            await google.colab.kernel.invokeFunction('convertToInteractive',\n",
              "                                                     [key], {});\n",
              "          if (!dataTable) return;\n",
              "\n",
              "          const docLinkHtml = 'Like what you see? Visit the ' +\n",
              "            '<a target=\"_blank\" href=https://colab.research.google.com/notebooks/data_table.ipynb>data table notebook</a>'\n",
              "            + ' to learn more about interactive tables.';\n",
              "          element.innerHTML = '';\n",
              "          dataTable['output_type'] = 'display_data';\n",
              "          await google.colab.output.renderOutput(dataTable, element);\n",
              "          const docLink = document.createElement('div');\n",
              "          docLink.innerHTML = docLinkHtml;\n",
              "          element.appendChild(docLink);\n",
              "        }\n",
              "      </script>\n",
              "    </div>\n",
              "  </div>\n",
              "  "
            ]
          },
          "metadata": {},
          "execution_count": 39
        }
      ],
      "source": [
        "# df_first 변수에 담긴 데이터프레임을 tail로 미리보기 합니다.\n",
        "df_first.tail()"
      ]
    },
    {
      "cell_type": "markdown",
      "metadata": {
        "id": "sRgcY7H7JZU3"
      },
      "source": [
        "### 데이터 요약하기"
      ]
    },
    {
      "cell_type": "code",
      "execution_count": null,
      "metadata": {
        "colab": {
          "base_uri": "https://localhost:8080/"
        },
        "id": "rG_jMT8CJZU3",
        "outputId": "7e8f1827-e806-43f2-916e-d667c3fd64e4"
      },
      "outputs": [
        {
          "output_type": "stream",
          "name": "stdout",
          "text": [
            "<class 'pandas.core.frame.DataFrame'>\n",
            "RangeIndex: 4335 entries, 0 to 4334\n",
            "Data columns (total 5 columns):\n",
            " #   Column   Non-Null Count  Dtype \n",
            "---  ------   --------------  ----- \n",
            " 0   지역명      4335 non-null   object\n",
            " 1   규모구분     4335 non-null   object\n",
            " 2   연도       4335 non-null   int64 \n",
            " 3   월        4335 non-null   int64 \n",
            " 4   분양가격(㎡)  4058 non-null   object\n",
            "dtypes: int64(2), object(3)\n",
            "memory usage: 169.5+ KB\n"
          ]
        }
      ],
      "source": [
        "# info 로 요약합니다.\n",
        "df_last.info()\n",
        "#분양가격의 갯수가 다른 이유는 결측치가 있기 때문\n",
        "#분양 가격의 type을 object에서 section 으로 변경할 필요가 있다"
      ]
    },
    {
      "cell_type": "markdown",
      "metadata": {
        "id": "0MekOAekJZU5"
      },
      "source": [
        "### 결측치 보기"
      ]
    },
    {
      "cell_type": "markdown",
      "metadata": {
        "id": "yRMZ_rLdJZU6"
      },
      "source": [
        "isnull 혹은 isna 를 통해 데이터가 비어있는지를 확인할 수 있습니다.\n",
        "결측치는 True로 표시되는데, True == 1 이기 때문에 이 값을 다 더해주면 결측치의 수가 됩니다."
      ]
    },
    {
      "cell_type": "code",
      "execution_count": null,
      "metadata": {
        "id": "yguHW2Jl_WXt",
        "outputId": "30661e13-0255-41c8-c5e6-5f67759fc4f0",
        "colab": {
          "base_uri": "https://localhost:8080/",
          "height": 423
        }
      },
      "outputs": [
        {
          "output_type": "execute_result",
          "data": {
            "text/plain": [
              "        지역명   규모구분     연도      월  분양가격(㎡)\n",
              "0     False  False  False  False    False\n",
              "1     False  False  False  False    False\n",
              "2     False  False  False  False    False\n",
              "3     False  False  False  False    False\n",
              "4     False  False  False  False    False\n",
              "...     ...    ...    ...    ...      ...\n",
              "4330  False  False  False  False    False\n",
              "4331  False  False  False  False     True\n",
              "4332  False  False  False  False    False\n",
              "4333  False  False  False  False     True\n",
              "4334  False  False  False  False    False\n",
              "\n",
              "[4335 rows x 5 columns]"
            ],
            "text/html": [
              "\n",
              "  <div id=\"df-13835c0a-bf78-4029-950b-742f84c3e0a4\">\n",
              "    <div class=\"colab-df-container\">\n",
              "      <div>\n",
              "<style scoped>\n",
              "    .dataframe tbody tr th:only-of-type {\n",
              "        vertical-align: middle;\n",
              "    }\n",
              "\n",
              "    .dataframe tbody tr th {\n",
              "        vertical-align: top;\n",
              "    }\n",
              "\n",
              "    .dataframe thead th {\n",
              "        text-align: right;\n",
              "    }\n",
              "</style>\n",
              "<table border=\"1\" class=\"dataframe\">\n",
              "  <thead>\n",
              "    <tr style=\"text-align: right;\">\n",
              "      <th></th>\n",
              "      <th>지역명</th>\n",
              "      <th>규모구분</th>\n",
              "      <th>연도</th>\n",
              "      <th>월</th>\n",
              "      <th>분양가격(㎡)</th>\n",
              "    </tr>\n",
              "  </thead>\n",
              "  <tbody>\n",
              "    <tr>\n",
              "      <th>0</th>\n",
              "      <td>False</td>\n",
              "      <td>False</td>\n",
              "      <td>False</td>\n",
              "      <td>False</td>\n",
              "      <td>False</td>\n",
              "    </tr>\n",
              "    <tr>\n",
              "      <th>1</th>\n",
              "      <td>False</td>\n",
              "      <td>False</td>\n",
              "      <td>False</td>\n",
              "      <td>False</td>\n",
              "      <td>False</td>\n",
              "    </tr>\n",
              "    <tr>\n",
              "      <th>2</th>\n",
              "      <td>False</td>\n",
              "      <td>False</td>\n",
              "      <td>False</td>\n",
              "      <td>False</td>\n",
              "      <td>False</td>\n",
              "    </tr>\n",
              "    <tr>\n",
              "      <th>3</th>\n",
              "      <td>False</td>\n",
              "      <td>False</td>\n",
              "      <td>False</td>\n",
              "      <td>False</td>\n",
              "      <td>False</td>\n",
              "    </tr>\n",
              "    <tr>\n",
              "      <th>4</th>\n",
              "      <td>False</td>\n",
              "      <td>False</td>\n",
              "      <td>False</td>\n",
              "      <td>False</td>\n",
              "      <td>False</td>\n",
              "    </tr>\n",
              "    <tr>\n",
              "      <th>...</th>\n",
              "      <td>...</td>\n",
              "      <td>...</td>\n",
              "      <td>...</td>\n",
              "      <td>...</td>\n",
              "      <td>...</td>\n",
              "    </tr>\n",
              "    <tr>\n",
              "      <th>4330</th>\n",
              "      <td>False</td>\n",
              "      <td>False</td>\n",
              "      <td>False</td>\n",
              "      <td>False</td>\n",
              "      <td>False</td>\n",
              "    </tr>\n",
              "    <tr>\n",
              "      <th>4331</th>\n",
              "      <td>False</td>\n",
              "      <td>False</td>\n",
              "      <td>False</td>\n",
              "      <td>False</td>\n",
              "      <td>True</td>\n",
              "    </tr>\n",
              "    <tr>\n",
              "      <th>4332</th>\n",
              "      <td>False</td>\n",
              "      <td>False</td>\n",
              "      <td>False</td>\n",
              "      <td>False</td>\n",
              "      <td>False</td>\n",
              "    </tr>\n",
              "    <tr>\n",
              "      <th>4333</th>\n",
              "      <td>False</td>\n",
              "      <td>False</td>\n",
              "      <td>False</td>\n",
              "      <td>False</td>\n",
              "      <td>True</td>\n",
              "    </tr>\n",
              "    <tr>\n",
              "      <th>4334</th>\n",
              "      <td>False</td>\n",
              "      <td>False</td>\n",
              "      <td>False</td>\n",
              "      <td>False</td>\n",
              "      <td>False</td>\n",
              "    </tr>\n",
              "  </tbody>\n",
              "</table>\n",
              "<p>4335 rows × 5 columns</p>\n",
              "</div>\n",
              "      <button class=\"colab-df-convert\" onclick=\"convertToInteractive('df-13835c0a-bf78-4029-950b-742f84c3e0a4')\"\n",
              "              title=\"Convert this dataframe to an interactive table.\"\n",
              "              style=\"display:none;\">\n",
              "        \n",
              "  <svg xmlns=\"http://www.w3.org/2000/svg\" height=\"24px\"viewBox=\"0 0 24 24\"\n",
              "       width=\"24px\">\n",
              "    <path d=\"M0 0h24v24H0V0z\" fill=\"none\"/>\n",
              "    <path d=\"M18.56 5.44l.94 2.06.94-2.06 2.06-.94-2.06-.94-.94-2.06-.94 2.06-2.06.94zm-11 1L8.5 8.5l.94-2.06 2.06-.94-2.06-.94L8.5 2.5l-.94 2.06-2.06.94zm10 10l.94 2.06.94-2.06 2.06-.94-2.06-.94-.94-2.06-.94 2.06-2.06.94z\"/><path d=\"M17.41 7.96l-1.37-1.37c-.4-.4-.92-.59-1.43-.59-.52 0-1.04.2-1.43.59L10.3 9.45l-7.72 7.72c-.78.78-.78 2.05 0 2.83L4 21.41c.39.39.9.59 1.41.59.51 0 1.02-.2 1.41-.59l7.78-7.78 2.81-2.81c.8-.78.8-2.07 0-2.86zM5.41 20L4 18.59l7.72-7.72 1.47 1.35L5.41 20z\"/>\n",
              "  </svg>\n",
              "      </button>\n",
              "      \n",
              "  <style>\n",
              "    .colab-df-container {\n",
              "      display:flex;\n",
              "      flex-wrap:wrap;\n",
              "      gap: 12px;\n",
              "    }\n",
              "\n",
              "    .colab-df-convert {\n",
              "      background-color: #E8F0FE;\n",
              "      border: none;\n",
              "      border-radius: 50%;\n",
              "      cursor: pointer;\n",
              "      display: none;\n",
              "      fill: #1967D2;\n",
              "      height: 32px;\n",
              "      padding: 0 0 0 0;\n",
              "      width: 32px;\n",
              "    }\n",
              "\n",
              "    .colab-df-convert:hover {\n",
              "      background-color: #E2EBFA;\n",
              "      box-shadow: 0px 1px 2px rgba(60, 64, 67, 0.3), 0px 1px 3px 1px rgba(60, 64, 67, 0.15);\n",
              "      fill: #174EA6;\n",
              "    }\n",
              "\n",
              "    [theme=dark] .colab-df-convert {\n",
              "      background-color: #3B4455;\n",
              "      fill: #D2E3FC;\n",
              "    }\n",
              "\n",
              "    [theme=dark] .colab-df-convert:hover {\n",
              "      background-color: #434B5C;\n",
              "      box-shadow: 0px 1px 3px 1px rgba(0, 0, 0, 0.15);\n",
              "      filter: drop-shadow(0px 1px 2px rgba(0, 0, 0, 0.3));\n",
              "      fill: #FFFFFF;\n",
              "    }\n",
              "  </style>\n",
              "\n",
              "      <script>\n",
              "        const buttonEl =\n",
              "          document.querySelector('#df-13835c0a-bf78-4029-950b-742f84c3e0a4 button.colab-df-convert');\n",
              "        buttonEl.style.display =\n",
              "          google.colab.kernel.accessAllowed ? 'block' : 'none';\n",
              "\n",
              "        async function convertToInteractive(key) {\n",
              "          const element = document.querySelector('#df-13835c0a-bf78-4029-950b-742f84c3e0a4');\n",
              "          const dataTable =\n",
              "            await google.colab.kernel.invokeFunction('convertToInteractive',\n",
              "                                                     [key], {});\n",
              "          if (!dataTable) return;\n",
              "\n",
              "          const docLinkHtml = 'Like what you see? Visit the ' +\n",
              "            '<a target=\"_blank\" href=https://colab.research.google.com/notebooks/data_table.ipynb>data table notebook</a>'\n",
              "            + ' to learn more about interactive tables.';\n",
              "          element.innerHTML = '';\n",
              "          dataTable['output_type'] = 'display_data';\n",
              "          await google.colab.output.renderOutput(dataTable, element);\n",
              "          const docLink = document.createElement('div');\n",
              "          docLink.innerHTML = docLinkHtml;\n",
              "          element.appendChild(docLink);\n",
              "        }\n",
              "      </script>\n",
              "    </div>\n",
              "  </div>\n",
              "  "
            ]
          },
          "metadata": {},
          "execution_count": 46
        }
      ],
      "source": [
        "# isnull 을 통해 결측치를 봅니다.\n",
        "df_last.isnull()"
      ]
    },
    {
      "cell_type": "code",
      "execution_count": null,
      "metadata": {
        "colab": {
          "base_uri": "https://localhost:8080/"
        },
        "id": "CqaWXfocJZU7",
        "outputId": "c4ec7637-0b2b-4067-907b-3a49a18a73dc"
      },
      "outputs": [
        {
          "output_type": "execute_result",
          "data": {
            "text/plain": [
              "지역명          0\n",
              "규모구분         0\n",
              "연도           0\n",
              "월            0\n",
              "분양가격(㎡)    277\n",
              "dtype: int64"
            ]
          },
          "metadata": {},
          "execution_count": 44
        }
      ],
      "source": [
        "# isnull 을 통해 결측치를 구합니다.\n",
        "df_last.isnull().sum() \n",
        "#이때 나온 합계가 결측치의 갯수에 해당된다"
      ]
    },
    {
      "cell_type": "code",
      "execution_count": null,
      "metadata": {
        "colab": {
          "base_uri": "https://localhost:8080/"
        },
        "id": "jIf6_IFvJZU8",
        "outputId": "27f27c4c-98f7-43e0-9091-d0d7f299a98a"
      },
      "outputs": [
        {
          "output_type": "execute_result",
          "data": {
            "text/plain": [
              "지역명          0\n",
              "규모구분         0\n",
              "연도           0\n",
              "월            0\n",
              "분양가격(㎡)    277\n",
              "dtype: int64"
            ]
          },
          "metadata": {},
          "execution_count": 45
        }
      ],
      "source": [
        "# isna 를 통해 결측치를 구합니다.\n",
        "df_last.isna().sum() "
      ]
    },
    {
      "cell_type": "markdown",
      "metadata": {
        "id": "9PNqs0q4JZU_"
      },
      "source": [
        "### 데이터 타입 변경\n",
        "분양가격이 object(문자) 타입으로 되어 있습니다. 문자열 타입을 계산할 수 없기 때문에 수치 데이터로 변경해 줍니다. 결측치가 섞여 있을 때 변환이 제대로 되지 않습니다. 그래서 pd.to_numeric 을 통해 데이터의 타입을 변경합니다."
      ]
    },
    {
      "cell_type": "code",
      "execution_count": null,
      "metadata": {
        "colab": {
          "base_uri": "https://localhost:8080/"
        },
        "id": "YdqsOWagJZVA",
        "outputId": "2ebd0b34-da70-42dc-cdbb-f19ec716ec32"
      },
      "outputs": [
        {
          "output_type": "execute_result",
          "data": {
            "text/plain": [
              "0       5841\n",
              "1       5652\n",
              "2       5882\n",
              "3       5721\n",
              "4       5879\n",
              "        ... \n",
              "4330    3882\n",
              "4331     NaN\n",
              "4332    3898\n",
              "4333     NaN\n",
              "4334    3601\n",
              "Name: 분양가격(㎡), Length: 4335, dtype: object"
            ]
          },
          "metadata": {},
          "execution_count": 47
        }
      ],
      "source": [
        "df_last[\"분양가격(㎡)\"]\n",
        "#숫자 data 인데, dtype이 object로 되어있다면 평균(mean)이나 합계(sum)을 구할 수 없다"
      ]
    },
    {
      "cell_type": "code",
      "source": [
        "type(pd.np.nan)"
      ],
      "metadata": {
        "id": "IgBGj_MaInXs",
        "outputId": "14bfe556-ce13-4490-9f11-8a7a12e75409",
        "colab": {
          "base_uri": "https://localhost:8080/"
        }
      },
      "execution_count": null,
      "outputs": [
        {
          "output_type": "stream",
          "name": "stderr",
          "text": [
            "<ipython-input-53-e71c757bba12>:1: FutureWarning: The pandas.np module is deprecated and will be removed from pandas in a future version. Import numpy directly instead\n",
            "  type(pd.np.nan)\n"
          ]
        },
        {
          "output_type": "execute_result",
          "data": {
            "text/plain": [
              "float"
            ]
          },
          "metadata": {},
          "execution_count": 53
        }
      ]
    },
    {
      "cell_type": "code",
      "source": [
        "df_last[\"분양가격\"] = pd.to_numeric(df_last[\"분양가격(㎡)\"], errors='coerce')\n",
        "df_last[\"분양가격\"]\n",
        "#coerce : error를 무시하고 강제로 실행\n",
        "#이때, float 형식으로 나오는 이유는 pd.np.nan의 type이 float이기 때문이다."
      ],
      "metadata": {
        "id": "naFyNlQkINIE",
        "outputId": "699f155d-f146-43c4-c94c-5f42043add31",
        "colab": {
          "base_uri": "https://localhost:8080/"
        }
      },
      "execution_count": null,
      "outputs": [
        {
          "output_type": "execute_result",
          "data": {
            "text/plain": [
              "12728.0"
            ]
          },
          "metadata": {},
          "execution_count": 57
        }
      ]
    },
    {
      "cell_type": "markdown",
      "metadata": {
        "id": "kdeItDwvJZVE"
      },
      "source": [
        "### 평당분양가격 구하기\n",
        "공공데이터포털에 올라와 있는 2013년부터의 데이터는 평당분양가격 기준으로 되어 있습니다.\n",
        "분양가격을 평당기준으로 보기위해 3.3을 곱해서 \"평당분양가격\" 컬럼을 만들어 추가해 줍니다."
      ]
    },
    {
      "cell_type": "code",
      "execution_count": null,
      "metadata": {
        "colab": {
          "base_uri": "https://localhost:8080/",
          "height": 554
        },
        "id": "y0dqodhEJZVE",
        "outputId": "57b732b0-de32-4944-efa1-4359dd6391c0"
      },
      "outputs": [
        {
          "output_type": "execute_result",
          "data": {
            "text/plain": [
              "     지역명               규모구분    연도   월 분양가격(㎡)    분양가격   평당분양가격\n",
              "0     서울                 전체  2015  10    5841  5841.0  19275.3\n",
              "1     서울         전용면적 60㎡이하  2015  10    5652  5652.0  18651.6\n",
              "2     서울   전용면적 60㎡초과 85㎡이하  2015  10    5882  5882.0  19410.6\n",
              "3     서울  전용면적 85㎡초과 102㎡이하  2015  10    5721  5721.0  18879.3\n",
              "4     서울        전용면적 102㎡초과  2015  10    5879  5879.0  19400.7\n",
              "...   ..                ...   ...  ..     ...     ...      ...\n",
              "4330  제주                 전체  2019  12    3882  3882.0  12810.6\n",
              "4331  제주         전용면적 60㎡이하  2019  12     NaN     NaN      NaN\n",
              "4332  제주   전용면적 60㎡초과 85㎡이하  2019  12    3898  3898.0  12863.4\n",
              "4333  제주  전용면적 85㎡초과 102㎡이하  2019  12     NaN     NaN      NaN\n",
              "4334  제주        전용면적 102㎡초과  2019  12    3601  3601.0  11883.3\n",
              "\n",
              "[4335 rows x 7 columns]"
            ],
            "text/html": [
              "\n",
              "  <div id=\"df-d9797f2d-7fbc-4313-aed0-5424f61ea0aa\">\n",
              "    <div class=\"colab-df-container\">\n",
              "      <div>\n",
              "<style scoped>\n",
              "    .dataframe tbody tr th:only-of-type {\n",
              "        vertical-align: middle;\n",
              "    }\n",
              "\n",
              "    .dataframe tbody tr th {\n",
              "        vertical-align: top;\n",
              "    }\n",
              "\n",
              "    .dataframe thead th {\n",
              "        text-align: right;\n",
              "    }\n",
              "</style>\n",
              "<table border=\"1\" class=\"dataframe\">\n",
              "  <thead>\n",
              "    <tr style=\"text-align: right;\">\n",
              "      <th></th>\n",
              "      <th>지역명</th>\n",
              "      <th>규모구분</th>\n",
              "      <th>연도</th>\n",
              "      <th>월</th>\n",
              "      <th>분양가격(㎡)</th>\n",
              "      <th>분양가격</th>\n",
              "      <th>평당분양가격</th>\n",
              "    </tr>\n",
              "  </thead>\n",
              "  <tbody>\n",
              "    <tr>\n",
              "      <th>0</th>\n",
              "      <td>서울</td>\n",
              "      <td>전체</td>\n",
              "      <td>2015</td>\n",
              "      <td>10</td>\n",
              "      <td>5841</td>\n",
              "      <td>5841.0</td>\n",
              "      <td>19275.3</td>\n",
              "    </tr>\n",
              "    <tr>\n",
              "      <th>1</th>\n",
              "      <td>서울</td>\n",
              "      <td>전용면적 60㎡이하</td>\n",
              "      <td>2015</td>\n",
              "      <td>10</td>\n",
              "      <td>5652</td>\n",
              "      <td>5652.0</td>\n",
              "      <td>18651.6</td>\n",
              "    </tr>\n",
              "    <tr>\n",
              "      <th>2</th>\n",
              "      <td>서울</td>\n",
              "      <td>전용면적 60㎡초과 85㎡이하</td>\n",
              "      <td>2015</td>\n",
              "      <td>10</td>\n",
              "      <td>5882</td>\n",
              "      <td>5882.0</td>\n",
              "      <td>19410.6</td>\n",
              "    </tr>\n",
              "    <tr>\n",
              "      <th>3</th>\n",
              "      <td>서울</td>\n",
              "      <td>전용면적 85㎡초과 102㎡이하</td>\n",
              "      <td>2015</td>\n",
              "      <td>10</td>\n",
              "      <td>5721</td>\n",
              "      <td>5721.0</td>\n",
              "      <td>18879.3</td>\n",
              "    </tr>\n",
              "    <tr>\n",
              "      <th>4</th>\n",
              "      <td>서울</td>\n",
              "      <td>전용면적 102㎡초과</td>\n",
              "      <td>2015</td>\n",
              "      <td>10</td>\n",
              "      <td>5879</td>\n",
              "      <td>5879.0</td>\n",
              "      <td>19400.7</td>\n",
              "    </tr>\n",
              "    <tr>\n",
              "      <th>...</th>\n",
              "      <td>...</td>\n",
              "      <td>...</td>\n",
              "      <td>...</td>\n",
              "      <td>...</td>\n",
              "      <td>...</td>\n",
              "      <td>...</td>\n",
              "      <td>...</td>\n",
              "    </tr>\n",
              "    <tr>\n",
              "      <th>4330</th>\n",
              "      <td>제주</td>\n",
              "      <td>전체</td>\n",
              "      <td>2019</td>\n",
              "      <td>12</td>\n",
              "      <td>3882</td>\n",
              "      <td>3882.0</td>\n",
              "      <td>12810.6</td>\n",
              "    </tr>\n",
              "    <tr>\n",
              "      <th>4331</th>\n",
              "      <td>제주</td>\n",
              "      <td>전용면적 60㎡이하</td>\n",
              "      <td>2019</td>\n",
              "      <td>12</td>\n",
              "      <td>NaN</td>\n",
              "      <td>NaN</td>\n",
              "      <td>NaN</td>\n",
              "    </tr>\n",
              "    <tr>\n",
              "      <th>4332</th>\n",
              "      <td>제주</td>\n",
              "      <td>전용면적 60㎡초과 85㎡이하</td>\n",
              "      <td>2019</td>\n",
              "      <td>12</td>\n",
              "      <td>3898</td>\n",
              "      <td>3898.0</td>\n",
              "      <td>12863.4</td>\n",
              "    </tr>\n",
              "    <tr>\n",
              "      <th>4333</th>\n",
              "      <td>제주</td>\n",
              "      <td>전용면적 85㎡초과 102㎡이하</td>\n",
              "      <td>2019</td>\n",
              "      <td>12</td>\n",
              "      <td>NaN</td>\n",
              "      <td>NaN</td>\n",
              "      <td>NaN</td>\n",
              "    </tr>\n",
              "    <tr>\n",
              "      <th>4334</th>\n",
              "      <td>제주</td>\n",
              "      <td>전용면적 102㎡초과</td>\n",
              "      <td>2019</td>\n",
              "      <td>12</td>\n",
              "      <td>3601</td>\n",
              "      <td>3601.0</td>\n",
              "      <td>11883.3</td>\n",
              "    </tr>\n",
              "  </tbody>\n",
              "</table>\n",
              "<p>4335 rows × 7 columns</p>\n",
              "</div>\n",
              "      <button class=\"colab-df-convert\" onclick=\"convertToInteractive('df-d9797f2d-7fbc-4313-aed0-5424f61ea0aa')\"\n",
              "              title=\"Convert this dataframe to an interactive table.\"\n",
              "              style=\"display:none;\">\n",
              "        \n",
              "  <svg xmlns=\"http://www.w3.org/2000/svg\" height=\"24px\"viewBox=\"0 0 24 24\"\n",
              "       width=\"24px\">\n",
              "    <path d=\"M0 0h24v24H0V0z\" fill=\"none\"/>\n",
              "    <path d=\"M18.56 5.44l.94 2.06.94-2.06 2.06-.94-2.06-.94-.94-2.06-.94 2.06-2.06.94zm-11 1L8.5 8.5l.94-2.06 2.06-.94-2.06-.94L8.5 2.5l-.94 2.06-2.06.94zm10 10l.94 2.06.94-2.06 2.06-.94-2.06-.94-.94-2.06-.94 2.06-2.06.94z\"/><path d=\"M17.41 7.96l-1.37-1.37c-.4-.4-.92-.59-1.43-.59-.52 0-1.04.2-1.43.59L10.3 9.45l-7.72 7.72c-.78.78-.78 2.05 0 2.83L4 21.41c.39.39.9.59 1.41.59.51 0 1.02-.2 1.41-.59l7.78-7.78 2.81-2.81c.8-.78.8-2.07 0-2.86zM5.41 20L4 18.59l7.72-7.72 1.47 1.35L5.41 20z\"/>\n",
              "  </svg>\n",
              "      </button>\n",
              "      \n",
              "  <style>\n",
              "    .colab-df-container {\n",
              "      display:flex;\n",
              "      flex-wrap:wrap;\n",
              "      gap: 12px;\n",
              "    }\n",
              "\n",
              "    .colab-df-convert {\n",
              "      background-color: #E8F0FE;\n",
              "      border: none;\n",
              "      border-radius: 50%;\n",
              "      cursor: pointer;\n",
              "      display: none;\n",
              "      fill: #1967D2;\n",
              "      height: 32px;\n",
              "      padding: 0 0 0 0;\n",
              "      width: 32px;\n",
              "    }\n",
              "\n",
              "    .colab-df-convert:hover {\n",
              "      background-color: #E2EBFA;\n",
              "      box-shadow: 0px 1px 2px rgba(60, 64, 67, 0.3), 0px 1px 3px 1px rgba(60, 64, 67, 0.15);\n",
              "      fill: #174EA6;\n",
              "    }\n",
              "\n",
              "    [theme=dark] .colab-df-convert {\n",
              "      background-color: #3B4455;\n",
              "      fill: #D2E3FC;\n",
              "    }\n",
              "\n",
              "    [theme=dark] .colab-df-convert:hover {\n",
              "      background-color: #434B5C;\n",
              "      box-shadow: 0px 1px 3px 1px rgba(0, 0, 0, 0.15);\n",
              "      filter: drop-shadow(0px 1px 2px rgba(0, 0, 0, 0.3));\n",
              "      fill: #FFFFFF;\n",
              "    }\n",
              "  </style>\n",
              "\n",
              "      <script>\n",
              "        const buttonEl =\n",
              "          document.querySelector('#df-d9797f2d-7fbc-4313-aed0-5424f61ea0aa button.colab-df-convert');\n",
              "        buttonEl.style.display =\n",
              "          google.colab.kernel.accessAllowed ? 'block' : 'none';\n",
              "\n",
              "        async function convertToInteractive(key) {\n",
              "          const element = document.querySelector('#df-d9797f2d-7fbc-4313-aed0-5424f61ea0aa');\n",
              "          const dataTable =\n",
              "            await google.colab.kernel.invokeFunction('convertToInteractive',\n",
              "                                                     [key], {});\n",
              "          if (!dataTable) return;\n",
              "\n",
              "          const docLinkHtml = 'Like what you see? Visit the ' +\n",
              "            '<a target=\"_blank\" href=https://colab.research.google.com/notebooks/data_table.ipynb>data table notebook</a>'\n",
              "            + ' to learn more about interactive tables.';\n",
              "          element.innerHTML = '';\n",
              "          dataTable['output_type'] = 'display_data';\n",
              "          await google.colab.output.renderOutput(dataTable, element);\n",
              "          const docLink = document.createElement('div');\n",
              "          docLink.innerHTML = docLinkHtml;\n",
              "          element.appendChild(docLink);\n",
              "        }\n",
              "      </script>\n",
              "    </div>\n",
              "  </div>\n",
              "  "
            ]
          },
          "metadata": {},
          "execution_count": 64
        }
      ],
      "source": [
        "df_last[\"평당분양가격\"] = df_last[\"분양가격\"]*3.3\n",
        "df_last\n",
        "#df_first 자료와 맞추기 위하여\n"
      ]
    },
    {
      "cell_type": "markdown",
      "metadata": {
        "id": "O0PFKeVrJZVG"
      },
      "source": [
        "### 분양가격 요약하기"
      ]
    },
    {
      "cell_type": "code",
      "execution_count": null,
      "metadata": {
        "colab": {
          "base_uri": "https://localhost:8080/"
        },
        "id": "dUFsWpx1JZVH",
        "outputId": "573183a0-2780-40de-e5e3-0deed3b2a5c0"
      },
      "outputs": [
        {
          "output_type": "stream",
          "name": "stdout",
          "text": [
            "<class 'pandas.core.frame.DataFrame'>\n",
            "RangeIndex: 4335 entries, 0 to 4334\n",
            "Data columns (total 7 columns):\n",
            " #   Column   Non-Null Count  Dtype  \n",
            "---  ------   --------------  -----  \n",
            " 0   지역명      4335 non-null   object \n",
            " 1   규모구분     4335 non-null   object \n",
            " 2   연도       4335 non-null   int64  \n",
            " 3   월        4335 non-null   int64  \n",
            " 4   분양가격(㎡)  4058 non-null   object \n",
            " 5   분양가격     3957 non-null   float64\n",
            " 6   평당분양가격   3957 non-null   float64\n",
            "dtypes: float64(2), int64(2), object(3)\n",
            "memory usage: 237.2+ KB\n"
          ]
        }
      ],
      "source": [
        "# info를 통해 분양가격을 봅니다.\n",
        "df_last.info()"
      ]
    },
    {
      "cell_type": "code",
      "execution_count": null,
      "metadata": {
        "colab": {
          "base_uri": "https://localhost:8080/"
        },
        "id": "V77bOjLIJZVJ",
        "outputId": "258fbb14-cbc0-474c-fdf9-a8294b89718f"
      },
      "outputs": [
        {
          "output_type": "execute_result",
          "data": {
            "text/plain": [
              "count     4058\n",
              "unique    1753\n",
              "top       2221\n",
              "freq        17\n",
              "Name: 분양가격(㎡), dtype: object"
            ]
          },
          "metadata": {},
          "execution_count": 66
        }
      ],
      "source": [
        "# 변경 전 컬럼인 분양가격(㎡) 컬럼을 요약합니다.\n",
        "df_last[\"분양가격(㎡)\"].describe()"
      ]
    },
    {
      "cell_type": "code",
      "execution_count": null,
      "metadata": {
        "colab": {
          "base_uri": "https://localhost:8080/"
        },
        "id": "LqwqYcy0JZVL",
        "outputId": "d2f0ee77-d259-466c-e1cd-7b7d7c303298"
      },
      "outputs": [
        {
          "output_type": "execute_result",
          "data": {
            "text/plain": [
              "count     3957.000000\n",
              "mean      3238.128633\n",
              "std       1264.309933\n",
              "min       1868.000000\n",
              "25%       2441.000000\n",
              "50%       2874.000000\n",
              "75%       3561.000000\n",
              "max      12728.000000\n",
              "Name: 분양가격, dtype: float64"
            ]
          },
          "metadata": {},
          "execution_count": 67
        }
      ],
      "source": [
        "# 수치데이터로 변경된 분양가격 컬럼을 요약합니다.\n",
        "#object type일때와 수치 데이터 type 일때 다르게 요약된다 \n",
        "df_last[\"분양가격\"].describe()"
      ]
    },
    {
      "cell_type": "markdown",
      "source": [
        "분양가격(㎡) describe 해석\n",
        "- count 값이 높은 이유는 결측치가 있었기 때문\n",
        "- unique : 중복되지 않은 값\n",
        "- top : 가장 빈번하게 나오는 문자\n",
        "- freq : 가장 빈번하게 나오는 문자의 횟수\n"
      ],
      "metadata": {
        "id": "_gHyhIC3K0OE"
      }
    },
    {
      "cell_type": "markdown",
      "source": [
        "####분양가격 describe 해석 (수치형)\n",
        "- count : 개수\n",
        "- mean : 평균\n",
        "- std : 표준편차\n",
        "- min : 최솟값\n",
        "- 25% : 1사분위의 수\n",
        "- 50% : 2사분위의 수 (중앙값)\n",
        "- 75%  :3사분위의 수\n",
        "- max : 최댓값\n",
        "\n",
        "####주의깊게 봐야할 것\n",
        "- 중앙값(50%)과 평균의 차이\n",
        "- 75% 수와 max의 차이"
      ],
      "metadata": {
        "id": "A1W8WapkLqkL"
      }
    },
    {
      "cell_type": "markdown",
      "metadata": {
        "id": "AReZC_8JJZVO"
      },
      "source": [
        "### 규모구분을 전용면적 컬럼으로 변경\n",
        "규모구분 컬럼은 전용면적에 대한 내용이 있습니다. 전용면적이라는 문구가 공통적으로 들어가고 규모구분보다는 전용면적이 좀 더 직관적이기 때문에 전용면적이라는 컬럼을 새로 만들어주고 기존 규모구분의 값에서 전용면적, 초과, 이하 등의 문구를 빼고 간결하게 만들어 봅니다.\n",
        "\n",
        "이 때 str 의 replace 기능을 사용해서 예를들면 \"전용면적 60㎡초과 85㎡이하\"라면 \"60㎡~85㎡\" 로 변경해 줍니다.\n",
        "\n",
        "* pandas 의 string-handling 기능을 좀 더 보고 싶다면 :\n",
        "https://pandas.pydata.org/pandas-docs/stable/reference/series.html#string-handling"
      ]
    },
    {
      "cell_type": "code",
      "execution_count": null,
      "metadata": {
        "id": "zIJaZRXS_WXw",
        "outputId": "8ff30026-4fed-4e72-a8f8-01aa84bc8e9f",
        "colab": {
          "base_uri": "https://localhost:8080/"
        }
      },
      "outputs": [
        {
          "output_type": "execute_result",
          "data": {
            "text/plain": [
              "array(['전체', '전용면적 60㎡이하', '전용면적 60㎡초과 85㎡이하', '전용면적 85㎡초과 102㎡이하',\n",
              "       '전용면적 102㎡초과'], dtype=object)"
            ]
          },
          "metadata": {},
          "execution_count": 68
        }
      ],
      "source": [
        "# 규모구분의 unique 값 보기\n",
        "\n",
        "df_last[\"규모구분\"].unique()\n",
        "#공통으로 전용면적이라는 text가 들어가"
      ]
    },
    {
      "cell_type": "code",
      "execution_count": null,
      "metadata": {
        "id": "aow6lPsR_WXw",
        "outputId": "ea8d0336-3a43-48fe-a3e2-e6dca927b820",
        "colab": {
          "base_uri": "https://localhost:8080/"
        }
      },
      "outputs": [
        {
          "output_type": "execute_result",
          "data": {
            "text/plain": [
              "0             전체\n",
              "1            60㎡\n",
              "2        60㎡~85㎡\n",
              "3       85㎡~102㎡\n",
              "4          102㎡~\n",
              "          ...   \n",
              "4330          전체\n",
              "4331         60㎡\n",
              "4332     60㎡~85㎡\n",
              "4333    85㎡~102㎡\n",
              "4334       102㎡~\n",
              "Name: 전용면적, Length: 4335, dtype: object"
            ]
          },
          "metadata": {},
          "execution_count": 78
        }
      ],
      "source": [
        "# 규모구분을 전용면적으로 변경하기\n",
        "\n",
        "df_last[\"전용면적\"] = df_last[\"규모구분\"].str.replace(\"전용면적\", \"\")\n",
        "df_last[\"전용면적\"] = df_last[\"전용면적\"].str.replace(\"초과\",\"~\")\n",
        "df_last[\"전용면적\"] = df_last[\"전용면적\"].str.replace(\"이하\",\"\")\n",
        "df_last[\"전용면적\"] = df_last[\"전용면적\"].str.replace(\" \",\"\").str.strip() \n",
        "#str.strip() : 앞뒤의 공백 제거 \n",
        "df_last[\"전용면적\"]\n"
      ]
    },
    {
      "cell_type": "markdown",
      "metadata": {
        "id": "1GRbP8RV_WXw"
      },
      "source": [
        "### 필요없는 컬럼 제거하기\n",
        "drop을 통해 전처리 해준 컬럼을 제거합니다. pandas의 데이터프레임과 관련된 메소드에는 axis 옵션이 필요할 때가 있는데 행과 열중 어떤 기준으로 처리를 할 것인지를 의미합니다. 보통 기본적으로 0으로 되어 있고 행을 기준으로 처리함을 의미합니다. 메모리 사용량이 줄어들었는지 확인합니다."
      ]
    },
    {
      "cell_type": "code",
      "source": [
        "df_last.info()"
      ],
      "metadata": {
        "id": "J5-CkdJfPCv5",
        "outputId": "402909cc-39d1-41ca-bef9-79114c7708c8",
        "colab": {
          "base_uri": "https://localhost:8080/"
        }
      },
      "execution_count": null,
      "outputs": [
        {
          "output_type": "stream",
          "name": "stdout",
          "text": [
            "<class 'pandas.core.frame.DataFrame'>\n",
            "RangeIndex: 4335 entries, 0 to 4334\n",
            "Data columns (total 8 columns):\n",
            " #   Column   Non-Null Count  Dtype  \n",
            "---  ------   --------------  -----  \n",
            " 0   지역명      4335 non-null   object \n",
            " 1   규모구분     4335 non-null   object \n",
            " 2   연도       4335 non-null   int64  \n",
            " 3   월        4335 non-null   int64  \n",
            " 4   분양가격(㎡)  4058 non-null   object \n",
            " 5   분양가격     3957 non-null   float64\n",
            " 6   평당분양가격   3957 non-null   float64\n",
            " 7   전용면적     4335 non-null   object \n",
            "dtypes: float64(2), int64(2), object(4)\n",
            "memory usage: 271.1+ KB\n"
          ]
        }
      ]
    },
    {
      "cell_type": "code",
      "execution_count": null,
      "metadata": {
        "id": "fS0BJWcH_WXx",
        "outputId": "0786111b-5684-4ffa-f86a-6d6fe001e76d",
        "colab": {
          "base_uri": "https://localhost:8080/",
          "height": 124
        }
      },
      "outputs": [
        {
          "output_type": "execute_result",
          "data": {
            "text/plain": [
              "  지역명 규모구분    연도   월 분양가격(㎡)    분양가격   평당분양가격 전용면적\n",
              "0  서울   전체  2015  10    5841  5841.0  19275.3   전체"
            ],
            "text/html": [
              "\n",
              "  <div id=\"df-82936a05-d54e-4b94-aef2-e1d0c74d22fa\">\n",
              "    <div class=\"colab-df-container\">\n",
              "      <div>\n",
              "<style scoped>\n",
              "    .dataframe tbody tr th:only-of-type {\n",
              "        vertical-align: middle;\n",
              "    }\n",
              "\n",
              "    .dataframe tbody tr th {\n",
              "        vertical-align: top;\n",
              "    }\n",
              "\n",
              "    .dataframe thead th {\n",
              "        text-align: right;\n",
              "    }\n",
              "</style>\n",
              "<table border=\"1\" class=\"dataframe\">\n",
              "  <thead>\n",
              "    <tr style=\"text-align: right;\">\n",
              "      <th></th>\n",
              "      <th>지역명</th>\n",
              "      <th>규모구분</th>\n",
              "      <th>연도</th>\n",
              "      <th>월</th>\n",
              "      <th>분양가격(㎡)</th>\n",
              "      <th>분양가격</th>\n",
              "      <th>평당분양가격</th>\n",
              "      <th>전용면적</th>\n",
              "    </tr>\n",
              "  </thead>\n",
              "  <tbody>\n",
              "    <tr>\n",
              "      <th>0</th>\n",
              "      <td>서울</td>\n",
              "      <td>전체</td>\n",
              "      <td>2015</td>\n",
              "      <td>10</td>\n",
              "      <td>5841</td>\n",
              "      <td>5841.0</td>\n",
              "      <td>19275.3</td>\n",
              "      <td>전체</td>\n",
              "    </tr>\n",
              "  </tbody>\n",
              "</table>\n",
              "</div>\n",
              "      <button class=\"colab-df-convert\" onclick=\"convertToInteractive('df-82936a05-d54e-4b94-aef2-e1d0c74d22fa')\"\n",
              "              title=\"Convert this dataframe to an interactive table.\"\n",
              "              style=\"display:none;\">\n",
              "        \n",
              "  <svg xmlns=\"http://www.w3.org/2000/svg\" height=\"24px\"viewBox=\"0 0 24 24\"\n",
              "       width=\"24px\">\n",
              "    <path d=\"M0 0h24v24H0V0z\" fill=\"none\"/>\n",
              "    <path d=\"M18.56 5.44l.94 2.06.94-2.06 2.06-.94-2.06-.94-.94-2.06-.94 2.06-2.06.94zm-11 1L8.5 8.5l.94-2.06 2.06-.94-2.06-.94L8.5 2.5l-.94 2.06-2.06.94zm10 10l.94 2.06.94-2.06 2.06-.94-2.06-.94-.94-2.06-.94 2.06-2.06.94z\"/><path d=\"M17.41 7.96l-1.37-1.37c-.4-.4-.92-.59-1.43-.59-.52 0-1.04.2-1.43.59L10.3 9.45l-7.72 7.72c-.78.78-.78 2.05 0 2.83L4 21.41c.39.39.9.59 1.41.59.51 0 1.02-.2 1.41-.59l7.78-7.78 2.81-2.81c.8-.78.8-2.07 0-2.86zM5.41 20L4 18.59l7.72-7.72 1.47 1.35L5.41 20z\"/>\n",
              "  </svg>\n",
              "      </button>\n",
              "      \n",
              "  <style>\n",
              "    .colab-df-container {\n",
              "      display:flex;\n",
              "      flex-wrap:wrap;\n",
              "      gap: 12px;\n",
              "    }\n",
              "\n",
              "    .colab-df-convert {\n",
              "      background-color: #E8F0FE;\n",
              "      border: none;\n",
              "      border-radius: 50%;\n",
              "      cursor: pointer;\n",
              "      display: none;\n",
              "      fill: #1967D2;\n",
              "      height: 32px;\n",
              "      padding: 0 0 0 0;\n",
              "      width: 32px;\n",
              "    }\n",
              "\n",
              "    .colab-df-convert:hover {\n",
              "      background-color: #E2EBFA;\n",
              "      box-shadow: 0px 1px 2px rgba(60, 64, 67, 0.3), 0px 1px 3px 1px rgba(60, 64, 67, 0.15);\n",
              "      fill: #174EA6;\n",
              "    }\n",
              "\n",
              "    [theme=dark] .colab-df-convert {\n",
              "      background-color: #3B4455;\n",
              "      fill: #D2E3FC;\n",
              "    }\n",
              "\n",
              "    [theme=dark] .colab-df-convert:hover {\n",
              "      background-color: #434B5C;\n",
              "      box-shadow: 0px 1px 3px 1px rgba(0, 0, 0, 0.15);\n",
              "      filter: drop-shadow(0px 1px 2px rgba(0, 0, 0, 0.3));\n",
              "      fill: #FFFFFF;\n",
              "    }\n",
              "  </style>\n",
              "\n",
              "      <script>\n",
              "        const buttonEl =\n",
              "          document.querySelector('#df-82936a05-d54e-4b94-aef2-e1d0c74d22fa button.colab-df-convert');\n",
              "        buttonEl.style.display =\n",
              "          google.colab.kernel.accessAllowed ? 'block' : 'none';\n",
              "\n",
              "        async function convertToInteractive(key) {\n",
              "          const element = document.querySelector('#df-82936a05-d54e-4b94-aef2-e1d0c74d22fa');\n",
              "          const dataTable =\n",
              "            await google.colab.kernel.invokeFunction('convertToInteractive',\n",
              "                                                     [key], {});\n",
              "          if (!dataTable) return;\n",
              "\n",
              "          const docLinkHtml = 'Like what you see? Visit the ' +\n",
              "            '<a target=\"_blank\" href=https://colab.research.google.com/notebooks/data_table.ipynb>data table notebook</a>'\n",
              "            + ' to learn more about interactive tables.';\n",
              "          element.innerHTML = '';\n",
              "          dataTable['output_type'] = 'display_data';\n",
              "          await google.colab.output.renderOutput(dataTable, element);\n",
              "          const docLink = document.createElement('div');\n",
              "          docLink.innerHTML = docLinkHtml;\n",
              "          element.appendChild(docLink);\n",
              "        }\n",
              "      </script>\n",
              "    </div>\n",
              "  </div>\n",
              "  "
            ]
          },
          "metadata": {},
          "execution_count": 81
        }
      ],
      "source": [
        "# info로 정보 보기\n",
        "df_last.head(1)"
      ]
    },
    {
      "cell_type": "code",
      "execution_count": null,
      "metadata": {
        "id": "jqF4vexu_WXx"
      },
      "outputs": [],
      "source": [
        "# drop 사용시 axis에 유의 합니다.\n",
        "# axis 0:행, 1:열\n",
        "df_last = df_last.drop([\"규모구분\", \"분양가격(㎡)\"], axis = 1) #axis = 1 : 열을 의미"
      ]
    },
    {
      "cell_type": "code",
      "execution_count": null,
      "metadata": {
        "id": "sBVlaBxH_WXy",
        "outputId": "3af2d5e4-851b-430f-99e7-1778703093af",
        "colab": {
          "base_uri": "https://localhost:8080/",
          "height": 80
        }
      },
      "outputs": [
        {
          "output_type": "execute_result",
          "data": {
            "text/plain": [
              "  지역명    연도   월    분양가격   평당분양가격 전용면적\n",
              "0  서울  2015  10  5841.0  19275.3   전체"
            ],
            "text/html": [
              "\n",
              "  <div id=\"df-5017108c-299f-4669-b332-30d305eca6c5\">\n",
              "    <div class=\"colab-df-container\">\n",
              "      <div>\n",
              "<style scoped>\n",
              "    .dataframe tbody tr th:only-of-type {\n",
              "        vertical-align: middle;\n",
              "    }\n",
              "\n",
              "    .dataframe tbody tr th {\n",
              "        vertical-align: top;\n",
              "    }\n",
              "\n",
              "    .dataframe thead th {\n",
              "        text-align: right;\n",
              "    }\n",
              "</style>\n",
              "<table border=\"1\" class=\"dataframe\">\n",
              "  <thead>\n",
              "    <tr style=\"text-align: right;\">\n",
              "      <th></th>\n",
              "      <th>지역명</th>\n",
              "      <th>연도</th>\n",
              "      <th>월</th>\n",
              "      <th>분양가격</th>\n",
              "      <th>평당분양가격</th>\n",
              "      <th>전용면적</th>\n",
              "    </tr>\n",
              "  </thead>\n",
              "  <tbody>\n",
              "    <tr>\n",
              "      <th>0</th>\n",
              "      <td>서울</td>\n",
              "      <td>2015</td>\n",
              "      <td>10</td>\n",
              "      <td>5841.0</td>\n",
              "      <td>19275.3</td>\n",
              "      <td>전체</td>\n",
              "    </tr>\n",
              "  </tbody>\n",
              "</table>\n",
              "</div>\n",
              "      <button class=\"colab-df-convert\" onclick=\"convertToInteractive('df-5017108c-299f-4669-b332-30d305eca6c5')\"\n",
              "              title=\"Convert this dataframe to an interactive table.\"\n",
              "              style=\"display:none;\">\n",
              "        \n",
              "  <svg xmlns=\"http://www.w3.org/2000/svg\" height=\"24px\"viewBox=\"0 0 24 24\"\n",
              "       width=\"24px\">\n",
              "    <path d=\"M0 0h24v24H0V0z\" fill=\"none\"/>\n",
              "    <path d=\"M18.56 5.44l.94 2.06.94-2.06 2.06-.94-2.06-.94-.94-2.06-.94 2.06-2.06.94zm-11 1L8.5 8.5l.94-2.06 2.06-.94-2.06-.94L8.5 2.5l-.94 2.06-2.06.94zm10 10l.94 2.06.94-2.06 2.06-.94-2.06-.94-.94-2.06-.94 2.06-2.06.94z\"/><path d=\"M17.41 7.96l-1.37-1.37c-.4-.4-.92-.59-1.43-.59-.52 0-1.04.2-1.43.59L10.3 9.45l-7.72 7.72c-.78.78-.78 2.05 0 2.83L4 21.41c.39.39.9.59 1.41.59.51 0 1.02-.2 1.41-.59l7.78-7.78 2.81-2.81c.8-.78.8-2.07 0-2.86zM5.41 20L4 18.59l7.72-7.72 1.47 1.35L5.41 20z\"/>\n",
              "  </svg>\n",
              "      </button>\n",
              "      \n",
              "  <style>\n",
              "    .colab-df-container {\n",
              "      display:flex;\n",
              "      flex-wrap:wrap;\n",
              "      gap: 12px;\n",
              "    }\n",
              "\n",
              "    .colab-df-convert {\n",
              "      background-color: #E8F0FE;\n",
              "      border: none;\n",
              "      border-radius: 50%;\n",
              "      cursor: pointer;\n",
              "      display: none;\n",
              "      fill: #1967D2;\n",
              "      height: 32px;\n",
              "      padding: 0 0 0 0;\n",
              "      width: 32px;\n",
              "    }\n",
              "\n",
              "    .colab-df-convert:hover {\n",
              "      background-color: #E2EBFA;\n",
              "      box-shadow: 0px 1px 2px rgba(60, 64, 67, 0.3), 0px 1px 3px 1px rgba(60, 64, 67, 0.15);\n",
              "      fill: #174EA6;\n",
              "    }\n",
              "\n",
              "    [theme=dark] .colab-df-convert {\n",
              "      background-color: #3B4455;\n",
              "      fill: #D2E3FC;\n",
              "    }\n",
              "\n",
              "    [theme=dark] .colab-df-convert:hover {\n",
              "      background-color: #434B5C;\n",
              "      box-shadow: 0px 1px 3px 1px rgba(0, 0, 0, 0.15);\n",
              "      filter: drop-shadow(0px 1px 2px rgba(0, 0, 0, 0.3));\n",
              "      fill: #FFFFFF;\n",
              "    }\n",
              "  </style>\n",
              "\n",
              "      <script>\n",
              "        const buttonEl =\n",
              "          document.querySelector('#df-5017108c-299f-4669-b332-30d305eca6c5 button.colab-df-convert');\n",
              "        buttonEl.style.display =\n",
              "          google.colab.kernel.accessAllowed ? 'block' : 'none';\n",
              "\n",
              "        async function convertToInteractive(key) {\n",
              "          const element = document.querySelector('#df-5017108c-299f-4669-b332-30d305eca6c5');\n",
              "          const dataTable =\n",
              "            await google.colab.kernel.invokeFunction('convertToInteractive',\n",
              "                                                     [key], {});\n",
              "          if (!dataTable) return;\n",
              "\n",
              "          const docLinkHtml = 'Like what you see? Visit the ' +\n",
              "            '<a target=\"_blank\" href=https://colab.research.google.com/notebooks/data_table.ipynb>data table notebook</a>'\n",
              "            + ' to learn more about interactive tables.';\n",
              "          element.innerHTML = '';\n",
              "          dataTable['output_type'] = 'display_data';\n",
              "          await google.colab.output.renderOutput(dataTable, element);\n",
              "          const docLink = document.createElement('div');\n",
              "          docLink.innerHTML = docLinkHtml;\n",
              "          element.appendChild(docLink);\n",
              "        }\n",
              "      </script>\n",
              "    </div>\n",
              "  </div>\n",
              "  "
            ]
          },
          "metadata": {},
          "execution_count": 88
        }
      ],
      "source": [
        "# 제거가 잘 되었는지 확인 합니다.\n",
        "df_last.head(1)"
      ]
    },
    {
      "cell_type": "code",
      "execution_count": null,
      "metadata": {
        "id": "VDjn3qMc_WXy"
      },
      "outputs": [],
      "source": [
        "# 컬럼 제거를 통해 메모리 사용량이 줄어들었는지 확인합니다.\n",
        "df_last.info()\n"
      ]
    },
    {
      "cell_type": "markdown",
      "metadata": {
        "id": "qhS9AqdkJZVT"
      },
      "source": [
        "## groupby 로 데이터 집계하기\n",
        "groupby 를 통해 데이터를 그룹화해서 연산을 해봅니다."
      ]
    },
    {
      "cell_type": "code",
      "execution_count": null,
      "metadata": {
        "colab": {
          "base_uri": "https://localhost:8080/"
        },
        "id": "c_lCPSzLJZVO",
        "outputId": "dc458cbe-aeba-4d0b-fc6f-43df7c189cdd"
      },
      "outputs": [
        {
          "output_type": "execute_result",
          "data": {
            "text/plain": [
              "지역명\n",
              "강원     7890.750000\n",
              "경기    13356.895200\n",
              "경남     9268.778138\n",
              "경북     8376.536515\n",
              "광주     9951.535821\n",
              "대구    11980.895455\n",
              "대전    10253.333333\n",
              "부산    12087.121200\n",
              "서울    23599.976400\n",
              "세종     9796.516456\n",
              "울산    10014.902013\n",
              "인천    11915.320732\n",
              "전남     7565.316532\n",
              "전북     7724.235484\n",
              "제주    11241.276712\n",
              "충남     8233.651883\n",
              "충북     7634.655600\n",
              "Name: 평당분양가격, dtype: float64"
            ]
          },
          "metadata": {},
          "execution_count": 92
        }
      ],
      "source": [
        "# 지역명으로 분양가격의 평균을 구하고 막대그래프(bar)로 시각화 합니다.\n",
        "# df.groupby([\"인덱스로 사용할 컬럼명\"])[\"계산할 컬럼 값\"].연산()\n",
        "df_last.groupby([\"지역명\"])[\"평당분양가격\"].mean()"
      ]
    },
    {
      "cell_type": "code",
      "execution_count": null,
      "metadata": {
        "id": "ezWhyZ3O_WXy",
        "outputId": "e34654cb-5ebd-4d4f-b895-6203ce42e402",
        "colab": {
          "base_uri": "https://localhost:8080/"
        }
      },
      "outputs": [
        {
          "output_type": "execute_result",
          "data": {
            "text/plain": [
              "전용면적\n",
              "102㎡~       11517.705634\n",
              "60㎡         10375.137421\n",
              "60㎡~85㎡     10271.040071\n",
              "85㎡~102㎡    11097.599573\n",
              "전체          10276.086207\n",
              "Name: 평당분양가격, dtype: float64"
            ]
          },
          "metadata": {},
          "execution_count": 93
        }
      ],
      "source": [
        "# 전용면적으로 분양가격의 평균을 구합니다.\n",
        "df_last.groupby([\"전용면적\"])[\"평당분양가격\"].mean()"
      ]
    },
    {
      "cell_type": "code",
      "execution_count": null,
      "metadata": {
        "id": "TRBuQCnO_WXz",
        "outputId": "0f6d3039-d68d-4644-db2f-c463a02d6cc9",
        "colab": {
          "base_uri": "https://localhost:8080/"
        }
      },
      "outputs": [
        {
          "output_type": "execute_result",
          "data": {
            "text/plain": [
              "전용면적   지역명\n",
              "102㎡~  강원      8311.380000\n",
              "       경기     14771.790000\n",
              "       경남     10358.363265\n",
              "       경북      9157.302000\n",
              "       광주     11041.532432\n",
              "                  ...     \n",
              "전체     전남      7283.562000\n",
              "       전북      7292.604000\n",
              "       제주     10784.994000\n",
              "       충남      7815.324000\n",
              "       충북      7219.014000\n",
              "Name: 평당분양가격, Length: 85, dtype: float64"
            ]
          },
          "metadata": {},
          "execution_count": 94
        }
      ],
      "source": [
        "# 지역명, 전용면적으로 평당분양가격의 평균을 구합니다.\n",
        "\n",
        "df_last.groupby([\"전용면적\", \"지역명\"])[\"평당분양가격\"].mean()"
      ]
    },
    {
      "cell_type": "code",
      "source": [
        "df_last.groupby([\"전용면적\", \"지역명\"])[\"평당분양가격\"].mean().unstack().round()\n",
        "#unstack() : 지역명이 col 로 온다\n",
        "#round() : 소수점 뒤를 정리"
      ],
      "metadata": {
        "id": "Go_ZvLwIS2uH",
        "outputId": "62430e37-7c11-43c4-f4fb-6f8b0c961e70",
        "colab": {
          "base_uri": "https://localhost:8080/",
          "height": 423
        }
      },
      "execution_count": null,
      "outputs": [
        {
          "output_type": "execute_result",
          "data": {
            "text/plain": [
              "지역명           강원       경기       경남      경북       광주       대구       대전  \\\n",
              "전용면적                                                                    \n",
              "102㎡~     8311.0  14772.0  10358.0  9157.0  11042.0  13087.0  14877.0   \n",
              "60㎡       7567.0  13252.0   8689.0  7883.0   9431.0  11992.0   9176.0   \n",
              "60㎡~85㎡   7486.0  12524.0   8619.0  8061.0   9911.0  11779.0   9711.0   \n",
              "85㎡~102㎡  8750.0  13678.0  10018.0  8774.0   9296.0  11141.0   9037.0   \n",
              "전체        7478.0  12560.0   8659.0  8079.0   9904.0  11771.0   9786.0   \n",
              "\n",
              "지역명            부산       서울       세종       울산       인천      전남      전북  \\\n",
              "전용면적                                                                    \n",
              "102㎡~     13208.0  23446.0  10107.0   9974.0  14362.0  8168.0  8194.0   \n",
              "60㎡       11354.0  23213.0   9324.0   9202.0  11241.0  7210.0  7610.0   \n",
              "60㎡~85㎡   11865.0  22787.0   9775.0  10503.0  11384.0  7269.0  7271.0   \n",
              "85㎡~102㎡  12073.0  25944.0   9848.0   8861.0  11528.0  7909.0  8276.0   \n",
              "전체        11936.0  22610.0   9805.0  10493.0  11257.0  7284.0  7293.0   \n",
              "\n",
              "지역명            제주      충남      충북  \n",
              "전용면적                               \n",
              "102㎡~     10523.0  8689.0  8195.0  \n",
              "60㎡       14022.0  7911.0  7103.0  \n",
              "60㎡~85㎡   10621.0  7819.0  7264.0  \n",
              "85㎡~102㎡  10709.0  9120.0  8391.0  \n",
              "전체        10785.0  7815.0  7219.0  "
            ],
            "text/html": [
              "\n",
              "  <div id=\"df-370037a6-c3f1-4791-b813-846fdb310ca9\">\n",
              "    <div class=\"colab-df-container\">\n",
              "      <div>\n",
              "<style scoped>\n",
              "    .dataframe tbody tr th:only-of-type {\n",
              "        vertical-align: middle;\n",
              "    }\n",
              "\n",
              "    .dataframe tbody tr th {\n",
              "        vertical-align: top;\n",
              "    }\n",
              "\n",
              "    .dataframe thead th {\n",
              "        text-align: right;\n",
              "    }\n",
              "</style>\n",
              "<table border=\"1\" class=\"dataframe\">\n",
              "  <thead>\n",
              "    <tr style=\"text-align: right;\">\n",
              "      <th>지역명</th>\n",
              "      <th>강원</th>\n",
              "      <th>경기</th>\n",
              "      <th>경남</th>\n",
              "      <th>경북</th>\n",
              "      <th>광주</th>\n",
              "      <th>대구</th>\n",
              "      <th>대전</th>\n",
              "      <th>부산</th>\n",
              "      <th>서울</th>\n",
              "      <th>세종</th>\n",
              "      <th>울산</th>\n",
              "      <th>인천</th>\n",
              "      <th>전남</th>\n",
              "      <th>전북</th>\n",
              "      <th>제주</th>\n",
              "      <th>충남</th>\n",
              "      <th>충북</th>\n",
              "    </tr>\n",
              "    <tr>\n",
              "      <th>전용면적</th>\n",
              "      <th></th>\n",
              "      <th></th>\n",
              "      <th></th>\n",
              "      <th></th>\n",
              "      <th></th>\n",
              "      <th></th>\n",
              "      <th></th>\n",
              "      <th></th>\n",
              "      <th></th>\n",
              "      <th></th>\n",
              "      <th></th>\n",
              "      <th></th>\n",
              "      <th></th>\n",
              "      <th></th>\n",
              "      <th></th>\n",
              "      <th></th>\n",
              "      <th></th>\n",
              "    </tr>\n",
              "  </thead>\n",
              "  <tbody>\n",
              "    <tr>\n",
              "      <th>102㎡~</th>\n",
              "      <td>8311.0</td>\n",
              "      <td>14772.0</td>\n",
              "      <td>10358.0</td>\n",
              "      <td>9157.0</td>\n",
              "      <td>11042.0</td>\n",
              "      <td>13087.0</td>\n",
              "      <td>14877.0</td>\n",
              "      <td>13208.0</td>\n",
              "      <td>23446.0</td>\n",
              "      <td>10107.0</td>\n",
              "      <td>9974.0</td>\n",
              "      <td>14362.0</td>\n",
              "      <td>8168.0</td>\n",
              "      <td>8194.0</td>\n",
              "      <td>10523.0</td>\n",
              "      <td>8689.0</td>\n",
              "      <td>8195.0</td>\n",
              "    </tr>\n",
              "    <tr>\n",
              "      <th>60㎡</th>\n",
              "      <td>7567.0</td>\n",
              "      <td>13252.0</td>\n",
              "      <td>8689.0</td>\n",
              "      <td>7883.0</td>\n",
              "      <td>9431.0</td>\n",
              "      <td>11992.0</td>\n",
              "      <td>9176.0</td>\n",
              "      <td>11354.0</td>\n",
              "      <td>23213.0</td>\n",
              "      <td>9324.0</td>\n",
              "      <td>9202.0</td>\n",
              "      <td>11241.0</td>\n",
              "      <td>7210.0</td>\n",
              "      <td>7610.0</td>\n",
              "      <td>14022.0</td>\n",
              "      <td>7911.0</td>\n",
              "      <td>7103.0</td>\n",
              "    </tr>\n",
              "    <tr>\n",
              "      <th>60㎡~85㎡</th>\n",
              "      <td>7486.0</td>\n",
              "      <td>12524.0</td>\n",
              "      <td>8619.0</td>\n",
              "      <td>8061.0</td>\n",
              "      <td>9911.0</td>\n",
              "      <td>11779.0</td>\n",
              "      <td>9711.0</td>\n",
              "      <td>11865.0</td>\n",
              "      <td>22787.0</td>\n",
              "      <td>9775.0</td>\n",
              "      <td>10503.0</td>\n",
              "      <td>11384.0</td>\n",
              "      <td>7269.0</td>\n",
              "      <td>7271.0</td>\n",
              "      <td>10621.0</td>\n",
              "      <td>7819.0</td>\n",
              "      <td>7264.0</td>\n",
              "    </tr>\n",
              "    <tr>\n",
              "      <th>85㎡~102㎡</th>\n",
              "      <td>8750.0</td>\n",
              "      <td>13678.0</td>\n",
              "      <td>10018.0</td>\n",
              "      <td>8774.0</td>\n",
              "      <td>9296.0</td>\n",
              "      <td>11141.0</td>\n",
              "      <td>9037.0</td>\n",
              "      <td>12073.0</td>\n",
              "      <td>25944.0</td>\n",
              "      <td>9848.0</td>\n",
              "      <td>8861.0</td>\n",
              "      <td>11528.0</td>\n",
              "      <td>7909.0</td>\n",
              "      <td>8276.0</td>\n",
              "      <td>10709.0</td>\n",
              "      <td>9120.0</td>\n",
              "      <td>8391.0</td>\n",
              "    </tr>\n",
              "    <tr>\n",
              "      <th>전체</th>\n",
              "      <td>7478.0</td>\n",
              "      <td>12560.0</td>\n",
              "      <td>8659.0</td>\n",
              "      <td>8079.0</td>\n",
              "      <td>9904.0</td>\n",
              "      <td>11771.0</td>\n",
              "      <td>9786.0</td>\n",
              "      <td>11936.0</td>\n",
              "      <td>22610.0</td>\n",
              "      <td>9805.0</td>\n",
              "      <td>10493.0</td>\n",
              "      <td>11257.0</td>\n",
              "      <td>7284.0</td>\n",
              "      <td>7293.0</td>\n",
              "      <td>10785.0</td>\n",
              "      <td>7815.0</td>\n",
              "      <td>7219.0</td>\n",
              "    </tr>\n",
              "  </tbody>\n",
              "</table>\n",
              "</div>\n",
              "      <button class=\"colab-df-convert\" onclick=\"convertToInteractive('df-370037a6-c3f1-4791-b813-846fdb310ca9')\"\n",
              "              title=\"Convert this dataframe to an interactive table.\"\n",
              "              style=\"display:none;\">\n",
              "        \n",
              "  <svg xmlns=\"http://www.w3.org/2000/svg\" height=\"24px\"viewBox=\"0 0 24 24\"\n",
              "       width=\"24px\">\n",
              "    <path d=\"M0 0h24v24H0V0z\" fill=\"none\"/>\n",
              "    <path d=\"M18.56 5.44l.94 2.06.94-2.06 2.06-.94-2.06-.94-.94-2.06-.94 2.06-2.06.94zm-11 1L8.5 8.5l.94-2.06 2.06-.94-2.06-.94L8.5 2.5l-.94 2.06-2.06.94zm10 10l.94 2.06.94-2.06 2.06-.94-2.06-.94-.94-2.06-.94 2.06-2.06.94z\"/><path d=\"M17.41 7.96l-1.37-1.37c-.4-.4-.92-.59-1.43-.59-.52 0-1.04.2-1.43.59L10.3 9.45l-7.72 7.72c-.78.78-.78 2.05 0 2.83L4 21.41c.39.39.9.59 1.41.59.51 0 1.02-.2 1.41-.59l7.78-7.78 2.81-2.81c.8-.78.8-2.07 0-2.86zM5.41 20L4 18.59l7.72-7.72 1.47 1.35L5.41 20z\"/>\n",
              "  </svg>\n",
              "      </button>\n",
              "      \n",
              "  <style>\n",
              "    .colab-df-container {\n",
              "      display:flex;\n",
              "      flex-wrap:wrap;\n",
              "      gap: 12px;\n",
              "    }\n",
              "\n",
              "    .colab-df-convert {\n",
              "      background-color: #E8F0FE;\n",
              "      border: none;\n",
              "      border-radius: 50%;\n",
              "      cursor: pointer;\n",
              "      display: none;\n",
              "      fill: #1967D2;\n",
              "      height: 32px;\n",
              "      padding: 0 0 0 0;\n",
              "      width: 32px;\n",
              "    }\n",
              "\n",
              "    .colab-df-convert:hover {\n",
              "      background-color: #E2EBFA;\n",
              "      box-shadow: 0px 1px 2px rgba(60, 64, 67, 0.3), 0px 1px 3px 1px rgba(60, 64, 67, 0.15);\n",
              "      fill: #174EA6;\n",
              "    }\n",
              "\n",
              "    [theme=dark] .colab-df-convert {\n",
              "      background-color: #3B4455;\n",
              "      fill: #D2E3FC;\n",
              "    }\n",
              "\n",
              "    [theme=dark] .colab-df-convert:hover {\n",
              "      background-color: #434B5C;\n",
              "      box-shadow: 0px 1px 3px 1px rgba(0, 0, 0, 0.15);\n",
              "      filter: drop-shadow(0px 1px 2px rgba(0, 0, 0, 0.3));\n",
              "      fill: #FFFFFF;\n",
              "    }\n",
              "  </style>\n",
              "\n",
              "      <script>\n",
              "        const buttonEl =\n",
              "          document.querySelector('#df-370037a6-c3f1-4791-b813-846fdb310ca9 button.colab-df-convert');\n",
              "        buttonEl.style.display =\n",
              "          google.colab.kernel.accessAllowed ? 'block' : 'none';\n",
              "\n",
              "        async function convertToInteractive(key) {\n",
              "          const element = document.querySelector('#df-370037a6-c3f1-4791-b813-846fdb310ca9');\n",
              "          const dataTable =\n",
              "            await google.colab.kernel.invokeFunction('convertToInteractive',\n",
              "                                                     [key], {});\n",
              "          if (!dataTable) return;\n",
              "\n",
              "          const docLinkHtml = 'Like what you see? Visit the ' +\n",
              "            '<a target=\"_blank\" href=https://colab.research.google.com/notebooks/data_table.ipynb>data table notebook</a>'\n",
              "            + ' to learn more about interactive tables.';\n",
              "          element.innerHTML = '';\n",
              "          dataTable['output_type'] = 'display_data';\n",
              "          await google.colab.output.renderOutput(dataTable, element);\n",
              "          const docLink = document.createElement('div');\n",
              "          docLink.innerHTML = docLinkHtml;\n",
              "          element.appendChild(docLink);\n",
              "        }\n",
              "      </script>\n",
              "    </div>\n",
              "  </div>\n",
              "  "
            ]
          },
          "metadata": {},
          "execution_count": 98
        }
      ]
    },
    {
      "cell_type": "code",
      "execution_count": null,
      "metadata": {
        "id": "4e-0Onwf_WXz",
        "outputId": "38b09b5e-973d-4eaf-da13-bb1387b62346",
        "colab": {
          "base_uri": "https://localhost:8080/"
        }
      },
      "outputs": [
        {
          "output_type": "execute_result",
          "data": {
            "text/plain": [
              "연도    지역명\n",
              "2015  강원      7188.060000\n",
              "      경기     11060.940000\n",
              "      경남      8459.220000\n",
              "      경북      7464.160000\n",
              "      광주      7916.700000\n",
              "                 ...     \n",
              "2019  전남      8219.275862\n",
              "      전북      8532.260000\n",
              "      제주     11828.469231\n",
              "      충남      8748.840000\n",
              "      충북      7970.875000\n",
              "Name: 평당분양가격, Length: 85, dtype: float64"
            ]
          },
          "metadata": {},
          "execution_count": 99
        }
      ],
      "source": [
        "# 연도, 지역명으로 평당분양가격의 평균을 구합니다.\n",
        "df_last.groupby([\"연도\", \"지역명\"])[\"평당분양가격\"].mean() "
      ]
    },
    {
      "cell_type": "markdown",
      "metadata": {
        "id": "Y29QWd65_WXz"
      },
      "source": [
        "## pivot table 로 데이터 집계하기\n",
        "* groupby 로 했던 작업을 pivot_table로 똑같이 해봅니다."
      ]
    },
    {
      "cell_type": "code",
      "execution_count": null,
      "metadata": {
        "id": "uO_o0FsF_WXz"
      },
      "outputs": [],
      "source": [
        "# 지역명을 index 로 평당분양가격 을 values 로 구합니다.\n",
        "\n"
      ]
    },
    {
      "cell_type": "code",
      "execution_count": null,
      "metadata": {
        "id": "S60pwz42_WXz"
      },
      "outputs": [],
      "source": [
        "# df_last.groupby([\"전용면적\"])[\"평당분양가격\"].mean()"
      ]
    },
    {
      "cell_type": "code",
      "execution_count": null,
      "metadata": {
        "id": "KdW-AEFx_WXz"
      },
      "outputs": [],
      "source": [
        "# 전용면적을 index 로 평당분양가격 을 values 로 구합니다.\n",
        "\n"
      ]
    },
    {
      "cell_type": "code",
      "execution_count": null,
      "metadata": {
        "id": "qdaTLx5z_WX0"
      },
      "outputs": [],
      "source": [
        "# 지역명, 전용면적으로 평당분양가격의 평균을 구합니다.\n",
        "# df_last.groupby([\"전용면적\", \"지역명\"])[\"평당분양가격\"].mean().unstack().round()"
      ]
    },
    {
      "cell_type": "code",
      "execution_count": null,
      "metadata": {
        "id": "cnBUS2Zr_WX0"
      },
      "outputs": [],
      "source": []
    },
    {
      "cell_type": "code",
      "execution_count": null,
      "metadata": {
        "id": "570HBrFo_WX0"
      },
      "outputs": [],
      "source": [
        "# 연도, 지역명으로 평당분양가격의 평균을 구합니다.\n",
        "# g = df_last.groupby([\"연도\", \"지역명\"])[\"평당분양가격\"].mean()\n",
        "\n"
      ]
    },
    {
      "cell_type": "markdown",
      "metadata": {
        "id": "y6kOVY3CJZVQ"
      },
      "source": [
        "## 최근 데이터 시각화 하기\n",
        "### 데이터시각화를 위한 폰트설정\n",
        "한글폰트 사용을 위해 matplotlib의 pyplot을 plt라는 별칭으로 불러옵니다."
      ]
    },
    {
      "cell_type": "code",
      "execution_count": null,
      "metadata": {
        "id": "2CUIZVxB_WX0"
      },
      "outputs": [],
      "source": [
        "import matplotlib.pyplot as plt\n",
        "\n",
        "# plt.rc(\"font\", family=\"Malgun Gothic\")\n",
        "plt.rc(\"font\", family=\"AppleGothic\")"
      ]
    },
    {
      "cell_type": "code",
      "execution_count": null,
      "metadata": {
        "id": "Bts2Y-AW_WX0"
      },
      "outputs": [],
      "source": [
        "# 폰트 설정이 잘 안 된다면 해당 셀의 마지막 줄 주석을 풀고 실행해 보세요.\n",
        "# colab 사용시에도 아래 함수를 활용해 보세요.\n",
        "def get_font_family():\n",
        "    \"\"\"\n",
        "    시스템 환경에 따른 기본 폰트명을 반환하는 함수\n",
        "    \"\"\"\n",
        "    import platform\n",
        "    system_name = platform.system()\n",
        "\n",
        "    if system_name == \"Darwin\" :\n",
        "        font_family = \"AppleGothic\"\n",
        "    elif system_name == \"Windows\":\n",
        "        font_family = \"Malgun Gothic\"\n",
        "    else:\n",
        "        # Linux(colab)\n",
        "        !apt-get install fonts-nanum -qq  > /dev/null\n",
        "        !fc-cache -fv\n",
        "\n",
        "        import matplotlib as mpl\n",
        "        mpl.font_manager._rebuild()\n",
        "        findfont = mpl.font_manager.fontManager.findfont\n",
        "        mpl.font_manager.findfont = findfont\n",
        "        mpl.backends.backend_agg.findfont = findfont\n",
        "        \n",
        "        font_family = \"NanumBarunGothic\"\n",
        "    return font_family\n",
        "\n",
        "# plt.rc(\"font\", family=get_font_family())"
      ]
    },
    {
      "cell_type": "markdown",
      "metadata": {
        "id": "yUsE3a2Z_WX1"
      },
      "source": [
        "### Pandas로 시각화 하기 - 선그래프와 막대그래프\n",
        "pandas의 plot을 활용하면 다양한 그래프를 그릴 수 있습니다.\n",
        "seaborn을 사용했을 때보다 pandas를 사용해서 시각화를 할 때의 장점은 미리 계산을 하고 그리기 때문에 속도가 좀 더 빠릅니다."
      ]
    },
    {
      "cell_type": "code",
      "execution_count": null,
      "metadata": {
        "id": "nXBUBHXX_WX1"
      },
      "outputs": [],
      "source": [
        "# 지역명으로 분양가격의 평균을 구하고 선그래프로 시각화 합니다.\n",
        "\n"
      ]
    },
    {
      "cell_type": "code",
      "execution_count": null,
      "metadata": {
        "id": "zLLbvsgAJZVV"
      },
      "outputs": [],
      "source": [
        "# 지역명으로 분양가격의 평균을 구하고 막대그래프(bar)로 시각화 합니다.\n",
        "\n"
      ]
    },
    {
      "cell_type": "markdown",
      "metadata": {
        "id": "mW5UyrkSJZVZ"
      },
      "source": [
        "전용면적별 분양가격의 평균값을 구하고 그래프로 그려봅니다."
      ]
    },
    {
      "cell_type": "code",
      "execution_count": null,
      "metadata": {
        "id": "YL0cMtMGJZVa"
      },
      "outputs": [],
      "source": [
        "# 전용면적으로 분양가격의 평균을 구하고 막대그래프(bar)로 시각화 합니다.\n",
        "\n"
      ]
    },
    {
      "cell_type": "code",
      "execution_count": null,
      "metadata": {
        "id": "NLFeqjqT_WX1"
      },
      "outputs": [],
      "source": [
        "# 연도별 분양가격의 평균을 구하고 막대그래프(bar)로 시각화 합니다.\n",
        "\n"
      ]
    },
    {
      "cell_type": "markdown",
      "metadata": {
        "id": "R5QxvdFJJZVc"
      },
      "source": [
        "### box-and-whisker plot | diagram\n",
        "\n",
        "* https://pandas.pydata.org/pandas-docs/stable/user_guide/visualization.html\n",
        "* https://pandas.pydata.org/pandas-docs/stable/reference/api/pandas.DataFrame.boxplot.html\n",
        "\n",
        "* [상자 수염 그림 - 위키백과, 우리 모두의 백과사전](https://ko.wikipedia.org/wiki/%EC%83%81%EC%9E%90_%EC%88%98%EC%97%BC_%EA%B7%B8%EB%A6%BC)\n",
        "* 가공하지 않은 자료 그대로를 이용하여 그린 것이 아니라, 자료로부터 얻어낸 통계량인 5가지 요약 수치로 그린다.\n",
        "* 5가지 요약 수치란 기술통계학에서 자료의 정보를 알려주는 아래의 다섯 가지 수치를 의미한다.\n",
        "\n",
        "\n",
        "1. 최솟값\n",
        "1. 제 1사분위수\n",
        "1. 제 2사분위수( ), 즉 중앙값\n",
        "1. 제 3 사분위 수( )\n",
        "1. 최댓값\n",
        "\n",
        "* Box plot 이해하기 : \n",
        "    * [박스 플롯에 대하여 :: -[|]- Box and Whisker](https://boxnwhis.kr/2019/02/19/boxplot.html)\n",
        "    * [Understanding Boxplots – Towards Data Science](https://towardsdatascience.com/understanding-boxplots-5e2df7bcbd51)"
      ]
    },
    {
      "cell_type": "code",
      "execution_count": null,
      "metadata": {
        "id": "6Lqv_Npe_WX2"
      },
      "outputs": [],
      "source": [
        "# index를 월, columns 를 연도로 구하고 평당분양가격 으로 pivot_table 을 구하고 상자수염그림을 그립니다.\n",
        "\n",
        "\n"
      ]
    },
    {
      "cell_type": "code",
      "execution_count": null,
      "metadata": {
        "id": "BWSt5GFF_WX2"
      },
      "outputs": [],
      "source": [
        "# columns 에 \"연도\", \"전용면적\"을 추가해서 pivot_table 을 만들고 시각화 합니다.\n",
        "\n"
      ]
    },
    {
      "cell_type": "code",
      "execution_count": null,
      "metadata": {
        "id": "Z8nv1y-nJZVd"
      },
      "outputs": [],
      "source": [
        "# index를 월, columns 를 지역명으로 구하고 평당분양가격 으로 pivot_table 을 구하고 선그래프를 그립니다.\n",
        "\n",
        "\n"
      ]
    },
    {
      "cell_type": "markdown",
      "metadata": {
        "id": "D6DhLjbeJZVq"
      },
      "source": [
        "### Seaborn 으로 시각화 해보기"
      ]
    },
    {
      "cell_type": "code",
      "execution_count": null,
      "metadata": {
        "id": "bBpFQjCG_WX2"
      },
      "outputs": [],
      "source": [
        "# 라이브러리 로드하기\n",
        "\n"
      ]
    },
    {
      "cell_type": "code",
      "execution_count": null,
      "metadata": {
        "id": "FK4lchFMJZVs"
      },
      "outputs": [],
      "source": [
        "# barplot으로 지역별 평당분양가격을 그려봅니다.\n",
        "\n"
      ]
    },
    {
      "cell_type": "code",
      "execution_count": null,
      "metadata": {
        "id": "3GLbX_atJZVv",
        "scrolled": true
      },
      "outputs": [],
      "source": [
        "# barplot으로 연도별 평당분양가격을 그려봅니다.\n",
        "\n"
      ]
    },
    {
      "cell_type": "code",
      "execution_count": null,
      "metadata": {
        "id": "L-thSiHR_WX3"
      },
      "outputs": [],
      "source": [
        "# catplot 으로 서브플롯 그리기\n",
        "\n"
      ]
    },
    {
      "cell_type": "markdown",
      "metadata": {
        "id": "rRxkas-H_WX3"
      },
      "source": [
        "https://stackoverflow.com/questions/30490740/move-legend-outside-figure-in-seaborn-tsplot"
      ]
    },
    {
      "cell_type": "code",
      "execution_count": null,
      "metadata": {
        "id": "Gw1TJOE0JZVz"
      },
      "outputs": [],
      "source": [
        "# lineplot으로 연도별 평당분양가격을 그려봅니다.\n",
        "# hue 옵션을 통해 지역별로 다르게 표시해 봅니다.\n",
        "\n"
      ]
    },
    {
      "cell_type": "code",
      "execution_count": null,
      "metadata": {
        "id": "rIGGR2Ox_WX3"
      },
      "outputs": [],
      "source": [
        "# relplot 으로 서브플롯 그리기\n",
        "\n"
      ]
    },
    {
      "cell_type": "markdown",
      "metadata": {
        "id": "ktSSYYp0_WX4"
      },
      "source": [
        "### boxplot과 violinplot"
      ]
    },
    {
      "cell_type": "code",
      "execution_count": null,
      "metadata": {
        "id": "rxsrlYmyJZV5"
      },
      "outputs": [],
      "source": [
        "# 연도별 평당분양가격을 boxplot으로 그려봅니다.\n",
        "# 최솟값\n",
        "# 제 1사분위수\n",
        "# 제 2사분위수( ), 즉 중앙값\n",
        "# 제 3 사분위 수( )\n",
        "# 최댓값\n",
        "\n"
      ]
    },
    {
      "cell_type": "code",
      "execution_count": null,
      "metadata": {
        "id": "6YzYjc_xJZV7"
      },
      "outputs": [],
      "source": [
        "# hue옵션을 주어 전용면적별로 다르게 표시해 봅니다.\n",
        "\n"
      ]
    },
    {
      "cell_type": "code",
      "execution_count": null,
      "metadata": {
        "id": "sN78v5QHJZV9"
      },
      "outputs": [],
      "source": [
        "# 연도별 평당분양가격을 violinplot으로 그려봅니다.\n",
        "\n"
      ]
    },
    {
      "cell_type": "markdown",
      "metadata": {
        "id": "joZojQUD_WX5"
      },
      "source": [
        "### lmplot과 swarmplot "
      ]
    },
    {
      "cell_type": "code",
      "execution_count": null,
      "metadata": {
        "id": "tqDZ3quoJZWB"
      },
      "outputs": [],
      "source": [
        "# 연도별 평당분양가격을 lmplot으로 그려봅니다. \n",
        "# hue 옵션으로 전용면적을 표현해 봅니다.\n",
        "\n"
      ]
    },
    {
      "cell_type": "code",
      "execution_count": null,
      "metadata": {
        "id": "8HXGt1ZSJZWD",
        "scrolled": true
      },
      "outputs": [],
      "source": [
        "# 연도별 평당분양가격을 swarmplot 으로 그려봅니다. \n",
        "# swarmplot은 범주형(카테고리) 데이터의 산점도를 표현하기에 적합합니다.\n",
        "\n"
      ]
    },
    {
      "cell_type": "markdown",
      "metadata": {
        "id": "3FVFKFZyJZWF"
      },
      "source": [
        "### 이상치 보기"
      ]
    },
    {
      "cell_type": "code",
      "execution_count": null,
      "metadata": {
        "id": "AOVmBaRIJZWG"
      },
      "outputs": [],
      "source": [
        "# 평당분양가격의 최대값을 구해서 max_price 라는 변수에 담습니다.\n"
      ]
    },
    {
      "cell_type": "code",
      "execution_count": null,
      "metadata": {
        "id": "zitNlUjA_WX5"
      },
      "outputs": [],
      "source": []
    },
    {
      "cell_type": "code",
      "execution_count": null,
      "metadata": {
        "id": "MsnZwsdGJZWH"
      },
      "outputs": [],
      "source": [
        "# 서울의 평당분양가격이 특히 높은 데이터가 있습니다. 해당 데이터를 가져옵니다.\n",
        "\n"
      ]
    },
    {
      "cell_type": "markdown",
      "metadata": {
        "id": "L-lOJGCAJZWK"
      },
      "source": [
        "### 수치데이터 히스토그램 그리기"
      ]
    },
    {
      "cell_type": "markdown",
      "metadata": {
        "id": "qg_D3zf0JZWK"
      },
      "source": [
        "distplot은 결측치가 있으면 그래프를 그릴 때 오류가 납니다. \n",
        "따라서 결측치가 아닌 데이터만 따로 모아서 평당분양가격을 시각화하기 위한 데이터를 만듭니다.\n",
        "데이터프레임의 .loc를 활용하여 결측치가 없는 데이터에서 평당분양가격만 가져옵니다."
      ]
    },
    {
      "cell_type": "code",
      "execution_count": null,
      "metadata": {
        "id": "spNMwjce_WX6"
      },
      "outputs": [],
      "source": []
    },
    {
      "cell_type": "code",
      "execution_count": null,
      "metadata": {
        "id": "tgsPLSG7JZWL"
      },
      "outputs": [],
      "source": []
    },
    {
      "cell_type": "code",
      "execution_count": null,
      "metadata": {
        "id": "TaCcVhhs_WX6"
      },
      "outputs": [],
      "source": [
        "# 결측치가 없는 데이터에서 평당분양가격만 가져옵니다. 그리고 price라는 변수에 담습니다.\n",
        "# .loc[행]\n",
        "# .loc[행, 열]\n",
        "\n"
      ]
    },
    {
      "cell_type": "code",
      "execution_count": null,
      "metadata": {
        "id": "rV3v5VOxJZWM",
        "scrolled": true
      },
      "outputs": [],
      "source": [
        "# distplot으로 평당분양가격을 표현해 봅니다.\n",
        "\n"
      ]
    },
    {
      "cell_type": "code",
      "execution_count": null,
      "metadata": {
        "id": "G0yVkh8V_WX6"
      },
      "outputs": [],
      "source": [
        "# sns.distplot(price, hist=False, rug=True)\n",
        "\n"
      ]
    },
    {
      "cell_type": "markdown",
      "metadata": {
        "id": "n0-BpWfY_WX6"
      },
      "source": [
        "* distplot을 산마루 형태의 ridge plot으로 그리기\n",
        "* https://seaborn.pydata.org/tutorial/axis_grids.html#conditional-small-multiples\n",
        "* https://seaborn.pydata.org/examples/kde_ridgeplot.html"
      ]
    },
    {
      "cell_type": "code",
      "execution_count": null,
      "metadata": {
        "id": "g2pcgOGSJZWP",
        "scrolled": false
      },
      "outputs": [],
      "source": [
        "# subplot 으로 표현해 봅니다.\n",
        "\n"
      ]
    },
    {
      "cell_type": "code",
      "execution_count": null,
      "metadata": {
        "id": "t2rDaKf8_WX7"
      },
      "outputs": [],
      "source": [
        "# pairplot\n",
        "\n"
      ]
    },
    {
      "cell_type": "code",
      "execution_count": null,
      "metadata": {
        "id": "VFj5rmGCJZWU"
      },
      "outputs": [],
      "source": [
        "# 규모구분(전용면적)별로 value_counts를 사용해서 데이터를 집계해 봅니다.\n",
        "\n"
      ]
    },
    {
      "cell_type": "markdown",
      "metadata": {
        "id": "B1Y4qFSKJZWa"
      },
      "source": [
        "## 2015년 8월 이전 데이터 보기"
      ]
    },
    {
      "cell_type": "code",
      "execution_count": null,
      "metadata": {
        "id": "NdEeYsKj_WX7"
      },
      "outputs": [],
      "source": [
        "# 모든 컬럼이 출력되게 설정합니다.\n",
        "\n"
      ]
    },
    {
      "cell_type": "code",
      "execution_count": null,
      "metadata": {
        "id": "8vQhap0Y_WX7"
      },
      "outputs": [],
      "source": [
        "# head 로 미리보기를 합니다.\n",
        "\n"
      ]
    },
    {
      "cell_type": "code",
      "execution_count": null,
      "metadata": {
        "id": "ZsRnpSRJJZWa"
      },
      "outputs": [],
      "source": [
        "# df_first 변수에 담겨있는 데이터프레임의 정보를 info를 통해 봅니다.\n",
        "\n"
      ]
    },
    {
      "cell_type": "code",
      "execution_count": null,
      "metadata": {
        "id": "BE3i4RslJZWc",
        "scrolled": false
      },
      "outputs": [],
      "source": [
        "# 결측치가 있는지 봅니다.\n",
        "\n"
      ]
    },
    {
      "cell_type": "markdown",
      "metadata": {
        "id": "qJPb9qxMJZWi"
      },
      "source": [
        "### melt로 Tidy data 만들기\n",
        "pandas의 melt를 사용하면 데이터의 형태를 변경할 수 있습니다. \n",
        "df_first 변수에 담긴 데이터프레임은 df_last에 담겨있는 데이터프레임의 모습과 다릅니다. \n",
        "같은 형태로 만들어주어야 데이터를 합칠 수 있습니다. \n",
        "데이터를 병합하기 위해 melt를 사용해 열에 있는 데이터를 행으로 녹여봅니다.\n",
        "\n",
        "* https://pandas.pydata.org/docs/user_guide/reshaping.html#reshaping-by-melt\n",
        "* [Tidy Data 란?](https://vita.had.co.nz/papers/tidy-data.pdf)"
      ]
    },
    {
      "cell_type": "code",
      "execution_count": null,
      "metadata": {
        "id": "dbpjucdC_WX8"
      },
      "outputs": [],
      "source": [
        "# head 로 미리보기 합니다.\n",
        "\n"
      ]
    },
    {
      "cell_type": "code",
      "execution_count": null,
      "metadata": {
        "id": "XFlALkt_JZWi"
      },
      "outputs": [],
      "source": [
        "# pd.melt 를 사용하며, 녹인 데이터는 df_first_melt 변수에 담습니다. \n",
        "\n",
        "\n"
      ]
    },
    {
      "cell_type": "code",
      "execution_count": null,
      "metadata": {
        "id": "cw_cUHIBJZWm"
      },
      "outputs": [],
      "source": [
        "# df_first_melt 변수에 담겨진 컬럼의 이름을 \n",
        "# [\"지역명\", \"기간\", \"평당분양가격\"] 으로 변경합니다.\n",
        "\n"
      ]
    },
    {
      "cell_type": "markdown",
      "metadata": {
        "id": "Hpk9BBpi_WX8"
      },
      "source": [
        "### 연도와 월을 분리하기\n",
        "* pandas 의 string-handling 사용하기 : https://pandas.pydata.org/pandas-docs/stable/reference/series.html#string-handling"
      ]
    },
    {
      "cell_type": "code",
      "execution_count": null,
      "metadata": {
        "id": "PxzM-lNZJZWo"
      },
      "outputs": [],
      "source": [
        "date = \"2013년12월\"\n",
        "date"
      ]
    },
    {
      "cell_type": "code",
      "execution_count": null,
      "metadata": {
        "id": "FvVearAvJZWq"
      },
      "outputs": [],
      "source": [
        "# split 을 통해 \"년\"을 기준으로 텍스트를 분리해 봅니다.\n",
        "\n"
      ]
    },
    {
      "cell_type": "code",
      "execution_count": null,
      "metadata": {
        "id": "XN7UQjf2JZWr"
      },
      "outputs": [],
      "source": [
        "# 리스트의 인덱싱을 사용해서 연도만 가져옵니다.\n",
        "\n"
      ]
    },
    {
      "cell_type": "code",
      "execution_count": null,
      "metadata": {
        "id": "IerNx9rJJZWt"
      },
      "outputs": [],
      "source": [
        "# 리스트의 인덱싱과 replace를 사용해서 월을 제거합니다.\n",
        "\n"
      ]
    },
    {
      "cell_type": "code",
      "execution_count": null,
      "metadata": {
        "id": "FzrhsBYVJZWu"
      },
      "outputs": [],
      "source": [
        "# parse_year라는 함수를 만듭니다.\n",
        "# 연도만 반환하도록 하며, 반환하는 데이터는 int 타입이 되도록 합니다.\n"
      ]
    },
    {
      "cell_type": "code",
      "execution_count": null,
      "metadata": {
        "id": "_cb07-sTJZWv",
        "scrolled": true
      },
      "outputs": [],
      "source": [
        "# 제대로 분리가 되었는지 parse_year 함수를 확인합니다.\n",
        "\n"
      ]
    },
    {
      "cell_type": "code",
      "execution_count": null,
      "metadata": {
        "id": "5ZZV-wMCJZWx"
      },
      "outputs": [],
      "source": [
        "# parse_month 라는 함수를 만듭니다.\n",
        "# 월만 반환하도록 하며, 반환하는 데이터는 int 타입이 되도록 합니다.\n"
      ]
    },
    {
      "cell_type": "code",
      "execution_count": null,
      "metadata": {
        "id": "9Vg3xrfMJZWy"
      },
      "outputs": [],
      "source": [
        "# 제대로 분리가 되었는지 parse_month 함수를 확인합니다.\n",
        "\n"
      ]
    },
    {
      "cell_type": "code",
      "execution_count": null,
      "metadata": {
        "id": "-1kqUVUiJZW2"
      },
      "outputs": [],
      "source": [
        "# df_first_melt 변수에 담긴 데이터프레임에서 \n",
        "# apply를 활용해 연도만 추출해서 새로운 컬럼에 담습니다.\n",
        "\n"
      ]
    },
    {
      "cell_type": "code",
      "execution_count": null,
      "metadata": {
        "id": "rITud4g6JZW4"
      },
      "outputs": [],
      "source": [
        "# df_first_melt 변수에 담긴 데이터프레임에서 \n",
        "# apply를 활용해 월만 추출해서 새로운 컬럼에 담습니다.\n",
        "\n"
      ]
    },
    {
      "cell_type": "code",
      "execution_count": null,
      "metadata": {
        "id": "HjPjTyo7_WX-"
      },
      "outputs": [],
      "source": [
        "# 컬럼명을 리스트로 만들때 버전에 따라 tolist() 로 동작하기도 합니다.\n",
        "# to_list() 가 동작하지 않는다면 tolist() 로 해보세요.\n",
        "\n"
      ]
    },
    {
      "cell_type": "code",
      "execution_count": null,
      "metadata": {
        "id": "01xmyXCZJZW5"
      },
      "outputs": [],
      "source": [
        "# df_last와 병합을 하기 위해서는 컬럼의 이름이 같아야 합니다.\n",
        "# sample을 활용해서 데이터를 미리보기 합니다.\n",
        "\n"
      ]
    },
    {
      "cell_type": "code",
      "execution_count": null,
      "metadata": {
        "id": "hCiqMEr3_WX-"
      },
      "outputs": [],
      "source": [
        "cols = ['지역명', '연도', '월', '평당분양가격']\n",
        "cols"
      ]
    },
    {
      "cell_type": "code",
      "execution_count": null,
      "metadata": {
        "id": "g1ZjE8N2JZW8"
      },
      "outputs": [],
      "source": [
        "# 최근 데이터가 담긴 df_last 에는 전용면적이 있습니다. \n",
        "# 이전 데이터에는 전용면적이 없기 때문에 \"전체\"만 사용하도록 합니다.\n",
        "# loc를 사용해서 전체에 해당하는 면적만 copy로 복사해서 df_last_prepare 변수에 담습니다.\n",
        "\n"
      ]
    },
    {
      "cell_type": "code",
      "execution_count": null,
      "metadata": {
        "id": "4CwygvPsJZW9"
      },
      "outputs": [],
      "source": [
        "# df_first_melt에서 공통된 컬럼만 가져온 뒤\n",
        "# copy로 복사해서 df_first_prepare 변수에 담습니다.\n",
        "\n"
      ]
    },
    {
      "cell_type": "markdown",
      "metadata": {
        "id": "1D9an7yBJZW-"
      },
      "source": [
        "### concat 으로 데이터 합치기\n",
        "* https://pandas.pydata.org/pandas-docs/stable/reference/api/pandas.concat.html"
      ]
    },
    {
      "cell_type": "code",
      "execution_count": null,
      "metadata": {
        "id": "zzt1XHxrJZW_"
      },
      "outputs": [],
      "source": [
        "# df_first_prepare 와 df_last_prepare 를 합쳐줍니다.\n",
        "\n"
      ]
    },
    {
      "cell_type": "code",
      "execution_count": null,
      "metadata": {
        "id": "O4YP4QDkJZXC"
      },
      "outputs": [],
      "source": [
        "# 제대로 합쳐졌는지 미리보기를 합니다.\n",
        "\n"
      ]
    },
    {
      "cell_type": "code",
      "execution_count": null,
      "metadata": {
        "id": "Qn5Cyfp2JZXE"
      },
      "outputs": [],
      "source": [
        "# 연도별로 데이터가 몇개씩 있는지 value_counts를 통해 세어봅니다.\n",
        "\n"
      ]
    },
    {
      "cell_type": "markdown",
      "metadata": {
        "id": "pbwSpueSJZXF"
      },
      "source": [
        "### pivot_table 사용하기\n",
        "* https://pandas.pydata.org/docs/user_guide/reshaping.html#reshaping-and-pivot-tables"
      ]
    },
    {
      "cell_type": "code",
      "execution_count": null,
      "metadata": {
        "id": "fmMM40-5JZXG",
        "scrolled": true
      },
      "outputs": [],
      "source": [
        "# 연도를 인덱스로, 지역명을 컬럼으로 평당분양가격을 피봇테이블로 그려봅니다.\n"
      ]
    },
    {
      "cell_type": "code",
      "execution_count": null,
      "metadata": {
        "id": "IcMINejpJZXH"
      },
      "outputs": [],
      "source": [
        "# 위에서 그린 피봇테이블을 히트맵으로 표현해 봅니다.\n",
        "\n"
      ]
    },
    {
      "cell_type": "code",
      "execution_count": null,
      "metadata": {
        "id": "fvSgNmt9JZXK"
      },
      "outputs": [],
      "source": [
        "# transpose 를 사용하면 행과 열을 바꿔줄 수 있습니다.\n",
        "\n"
      ]
    },
    {
      "cell_type": "code",
      "execution_count": null,
      "metadata": {
        "id": "7e3AZk_iJZXM"
      },
      "outputs": [],
      "source": [
        "# 바뀐 행과 열을 히트맵으로 표현해 봅니다.\n",
        "\n"
      ]
    },
    {
      "cell_type": "code",
      "execution_count": null,
      "metadata": {
        "id": "x7sStggaJZXN"
      },
      "outputs": [],
      "source": [
        "# Groupby로 그려봅니다. 인덱스에 [\"연도\", \"지역명\"] 을 넣고 그려봅니다.\n",
        "\n"
      ]
    },
    {
      "cell_type": "code",
      "execution_count": null,
      "metadata": {
        "id": "ZjmCEVoM_WYB"
      },
      "outputs": [],
      "source": []
    },
    {
      "cell_type": "markdown",
      "metadata": {
        "id": "vVBBZGaZJZXO"
      },
      "source": [
        "## 2013년부터 최근 데이터까지 시각화하기\n",
        "### 연도별 평당분양가격 보기"
      ]
    },
    {
      "cell_type": "code",
      "execution_count": null,
      "metadata": {
        "id": "iv0eQZCHJZXP"
      },
      "outputs": [],
      "source": [
        "# barplot 으로 연도별 평당분양가격 그리기\n"
      ]
    },
    {
      "cell_type": "code",
      "execution_count": null,
      "metadata": {
        "id": "2rK7oFJbJZXR"
      },
      "outputs": [],
      "source": [
        "# pointplot 으로 연도별 평당분양가격 그리기\n"
      ]
    },
    {
      "cell_type": "code",
      "execution_count": null,
      "metadata": {
        "id": "gLQJIom0JZXU"
      },
      "outputs": [],
      "source": [
        "# 서울만 barplot 으로 그리기\n"
      ]
    },
    {
      "cell_type": "code",
      "execution_count": null,
      "metadata": {
        "id": "gkQm5wr_JZXW"
      },
      "outputs": [],
      "source": [
        "# 연도별 평당분양가격 boxplot 그리기\n",
        "\n"
      ]
    },
    {
      "cell_type": "code",
      "execution_count": null,
      "metadata": {
        "id": "dXg-WmOS_WYD"
      },
      "outputs": [],
      "source": []
    },
    {
      "cell_type": "code",
      "execution_count": null,
      "metadata": {
        "id": "6HFolwlNJZXX"
      },
      "outputs": [],
      "source": [
        "# 연도별 평당분양가격 violinplot 그리기\n",
        "\n"
      ]
    },
    {
      "cell_type": "code",
      "execution_count": null,
      "metadata": {
        "id": "uyY0TQlDJZXb"
      },
      "outputs": [],
      "source": [
        "# 연도별 평당분양가격 swarmplot 그리기\n",
        "\n"
      ]
    },
    {
      "cell_type": "markdown",
      "metadata": {
        "id": "HfEF2oEBJZXe"
      },
      "source": [
        "### 지역별 평당분양가격 보기"
      ]
    },
    {
      "cell_type": "code",
      "execution_count": null,
      "metadata": {
        "id": "ChZzsxFyJZXe"
      },
      "outputs": [],
      "source": [
        "# barplot 으로 지역별 평당분양가격을 그려봅니다.\n",
        "\n"
      ]
    },
    {
      "cell_type": "code",
      "execution_count": null,
      "metadata": {
        "id": "CbwY3fWHJZXh"
      },
      "outputs": [],
      "source": [
        "# boxplot 으로 지역별 평당분양가격을 그려봅니다.\n"
      ]
    },
    {
      "cell_type": "code",
      "execution_count": null,
      "metadata": {
        "id": "bYb0c3PI_WYE"
      },
      "outputs": [],
      "source": []
    },
    {
      "cell_type": "code",
      "execution_count": null,
      "metadata": {
        "id": "e_bpkMzXJZXi"
      },
      "outputs": [],
      "source": [
        "# violinplot 으로 지역별 평당분양가격을 그려봅니다.\n"
      ]
    },
    {
      "cell_type": "code",
      "execution_count": null,
      "metadata": {
        "id": "ie5-t4I8JZXj"
      },
      "outputs": [],
      "source": [
        "# swarmplot 으로 지역별 평당분양가격을 그려봅니다.\n",
        "\n"
      ]
    },
    {
      "cell_type": "code",
      "execution_count": null,
      "metadata": {
        "id": "elpOojq-_WYF"
      },
      "outputs": [],
      "source": []
    },
    {
      "cell_type": "code",
      "execution_count": null,
      "metadata": {
        "id": "eM6fmImz_WYF"
      },
      "outputs": [],
      "source": []
    },
    {
      "cell_type": "code",
      "execution_count": null,
      "metadata": {
        "id": "s0xhnEuL_WYF"
      },
      "outputs": [],
      "source": []
    },
    {
      "cell_type": "code",
      "execution_count": null,
      "metadata": {
        "id": "ejLTnKur_WYF"
      },
      "outputs": [],
      "source": []
    }
  ],
  "metadata": {
    "colab": {
      "collapsed_sections": [
        "9PNqs0q4JZU_",
        "kdeItDwvJZVE",
        "O0PFKeVrJZVG",
        "AReZC_8JJZVO",
        "qhS9AqdkJZVT",
        "y6kOVY3CJZVQ",
        "R5QxvdFJJZVc",
        "D6DhLjbeJZVq",
        "3FVFKFZyJZWF",
        "L-lOJGCAJZWK",
        "B1Y4qFSKJZWa",
        "1D9an7yBJZW-",
        "pbwSpueSJZXF",
        "vVBBZGaZJZXO",
        "HfEF2oEBJZXe"
      ],
      "provenance": [],
      "include_colab_link": true
    },
    "kernelspec": {
      "display_name": "Python 3",
      "language": "python",
      "name": "python3"
    },
    "language_info": {
      "codemirror_mode": {
        "name": "ipython",
        "version": 3
      },
      "file_extension": ".py",
      "mimetype": "text/x-python",
      "name": "python",
      "nbconvert_exporter": "python",
      "pygments_lexer": "ipython3",
      "version": "3.7.6"
    },
    "toc": {
      "base_numbering": 1,
      "nav_menu": {},
      "number_sections": true,
      "sideBar": true,
      "skip_h1_title": false,
      "title_cell": "Table of Contents",
      "title_sidebar": "Contents",
      "toc_cell": false,
      "toc_position": {
        "height": "calc(100% - 180px)",
        "left": "10px",
        "top": "150px",
        "width": "204.8px"
      },
      "toc_section_display": true,
      "toc_window_display": true
    },
    "varInspector": {
      "cols": {
        "lenName": 16,
        "lenType": 16,
        "lenVar": 40
      },
      "kernels_config": {
        "python": {
          "delete_cmd_postfix": "",
          "delete_cmd_prefix": "del ",
          "library": "var_list.py",
          "varRefreshCmd": "print(var_dic_list())"
        },
        "r": {
          "delete_cmd_postfix": ") ",
          "delete_cmd_prefix": "rm(",
          "library": "var_list.r",
          "varRefreshCmd": "cat(var_dic_list()) "
        }
      },
      "types_to_exclude": [
        "module",
        "function",
        "builtin_function_or_method",
        "instance",
        "_Feature"
      ],
      "window_display": false
    }
  },
  "nbformat": 4,
  "nbformat_minor": 0
}